{
 "cells": [
  {
   "cell_type": "code",
   "execution_count": 41,
   "id": "3c9bcdfc",
   "metadata": {},
   "outputs": [
    {
     "data": {
      "text/plain": [
       "detect_sous_tour (generic function with 1 method)"
      ]
     },
     "execution_count": 41,
     "metadata": {},
     "output_type": "execute_result"
    }
   ],
   "source": [
    "include(\"src/readPRP.jl\")\n",
    "include(\"src/utils.jl\")"
   ]
  },
  {
   "cell_type": "code",
   "execution_count": 43,
   "id": "917c8687",
   "metadata": {},
   "outputs": [
    {
     "data": {
      "text/plain": [
       "\"./PRP_instances/A_014_#ABS1_15_1.prp\""
      ]
     },
     "execution_count": 43,
     "metadata": {},
     "output_type": "execute_result"
    }
   ],
   "source": [
    "B_100 = \"./PRP_instances/B_100_instance17.prp\"\n",
    "A_14 = \"./PRP_instances/A_014_#ABS1_15_1.prp\""
   ]
  },
  {
   "cell_type": "code",
   "execution_count": null,
   "id": "7f6a54ef",
   "metadata": {},
   "outputs": [],
   "source": [
    "using Base.Iterators\n",
    "using LinearAlgebra"
   ]
  },
  {
   "cell_type": "code",
   "execution_count": 12,
   "id": "b6b268f2",
   "metadata": {},
   "outputs": [
    {
     "data": {
      "text/plain": [
       "Bin_Packing (generic function with 2 methods)"
      ]
     },
     "execution_count": 12,
     "metadata": {},
     "output_type": "execute_result"
    }
   ],
   "source": [
    "function Bin_Packing(prp, t)\n",
    "    Q = prp[\"Q\"]\n",
    "    n = prp[\"n\"]\n",
    "\n",
    "    somme = 0 # Poids cumulé dans la boite courante\n",
    "    boites = Vector{Int64}[] # Ensemble des boites\n",
    "\n",
    "    boiteCourante = [0] # Toutes les boites doivent contenir le centre de dépot 0\n",
    "\n",
    "    for i in 1:n \n",
    "        if prp[\"Clients\"].d[i][t] != 0 # On ne traite que les clients qui ont une demande pour ce pas de temps\n",
    "            somme += prp[\"Clients\"].d[i][t]\n",
    "\n",
    "            if somme > Q\n",
    "                # On enregistre la boite avant d'ajouter l'objet qui fait déborder la capacité\n",
    "                push!(boites, boiteCourante)\n",
    "\n",
    "                # On met l'objet qui a fait déborder la boite précédente dans la nouvelle boite \n",
    "                # On met donc la somme courante (du poids dans la boite courante) à jour\n",
    "                somme = prp[\"Clients\"].d[i][t]\n",
    "                boiteCourante = [0]\n",
    "            end\n",
    "            push!(boiteCourante, i)\n",
    "        end\n",
    "    end\n",
    "    if length(boiteCourante) > 1\n",
    "        push!(boites, boiteCourante)\n",
    "    end\n",
    "    return boites\n",
    "end"
   ]
  },
  {
   "cell_type": "code",
   "execution_count": 26,
   "id": "41c80b51",
   "metadata": {},
   "outputs": [
    {
     "data": {
      "text/plain": [
       "Vector{Int64}[]"
      ]
     },
     "execution_count": 26,
     "metadata": {},
     "output_type": "execute_result"
    }
   ],
   "source": [
    "Bin_Packing(Read_PRP_instance(\"./PRP_instances/A_014_#ABS1_15_1.prp\"), 1)"
   ]
  },
  {
   "cell_type": "code",
   "execution_count": 46,
   "id": "625f9773",
   "metadata": {},
   "outputs": [
    {
     "data": {
      "text/plain": [
       "binPacking (generic function with 2 methods)"
      ]
     },
     "execution_count": 46,
     "metadata": {},
     "output_type": "execute_result"
    }
   ],
   "source": [
    "function binPacking(prp, t)\n",
    "    \n",
    "    \n",
    "    cumsum = 0\n",
    "    set = Vector{Int64}[]\n",
    "    subset = [0]\n",
    "    for i in 2:prp[\"n\"]+1\n",
    "        cumsum += prp[\"Clients\"].d[i][t]\n",
    "        if cumsum > prp[\"Q\"]\n",
    "            push!(set, subset)\n",
    "            cumsum = prp[\"Clients\"].d[i][t]\n",
    "            subset = [0]\n",
    "        end\n",
    "        push!(subset, i)\n",
    "    end\n",
    "    if length(subset) > 1\n",
    "        push!(set, subset)\n",
    "    end\n",
    "    return set\n",
    "end"
   ]
  },
  {
   "cell_type": "code",
   "execution_count": 38,
   "id": "34073cef",
   "metadata": {},
   "outputs": [
    {
     "name": "stdout",
     "output_type": "stream",
     "text": [
      "[[0, 2, 3, 4, 5, 6, 7, 8, 9, 10, 11, 12, 13, 14, 15]]\n",
      "[[0, 2, 3, 4, 5, 6, 7, 8, 9, 10, 11, 12, 13, 14, 15]]\n",
      "[[0, 2, 3, 4, 5, 6, 7, 8, 9, 10, 11, 12, 13, 14, 15]]\n",
      "[[0, 2, 3, 4, 5, 6, 7, 8, 9, 10, 11, 12, 13, 14, 15]]\n",
      "[[0, 2, 3, 4, 5, 6, 7, 8, 9, 10, 11, 12, 13, 14, 15]]\n",
      "[[0, 2, 3, 4, 5, 6, 7, 8, 9, 10, 11, 12, 13, 14, 15]]\n"
     ]
    }
   ],
   "source": [
    "h = Read_PRP_instance(\"./PRP_instances/A_014_#ABS1_15_1.prp\")\n",
    "for t in 1:6\n",
    "    println(binPacking(h, t))\n",
    "end"
   ]
  },
  {
   "cell_type": "code",
   "execution_count": 39,
   "id": "6ba91c6e",
   "metadata": {},
   "outputs": [
    {
     "data": {
      "text/plain": [
       "clark_wright (generic function with 1 method)"
      ]
     },
     "execution_count": 39,
     "metadata": {},
     "output_type": "execute_result"
    }
   ],
   "source": [
    "function clark_wright(params,demands,costs,t)\n",
    "\n",
    "    n = params[\"n\"] #n est le nombre de clients\n",
    "    Q = params[\"Q\"] #Q est la capacité des camions\n",
    "\n",
    "\n",
    "    #Initialiser S\n",
    "    S = [[0, i] for i in 1:n]\n",
    "    whereIs = Dict(i => circuit for (i, circuit) in enumerate(S))\n",
    "\n",
    "    #Calcul des s_{i,j} et mettre dans l'ordre décroissant\n",
    "    s=[]\n",
    "    for i in 1:n, j in 1:n\n",
    "        if i != j\n",
    "            push!(s, [ (i,j), costs[1, i+1] + costs[1, j+1] - costs[i+1, j+1] ]) # pb indices\n",
    "        end\n",
    "    end\n",
    "    sort!(s, by = x->x[2], rev=true) #by = key pour sort, rev = reverse (ordre décroissant)\n",
    "\n",
    "    #Construction des circuits (attention il peut en avoir plus de m (le nombre de camion disponible))\n",
    "    for k in 1:length(s)\n",
    "\n",
    "        i=s[k][1][1]\n",
    "        j=s[k][1][2]\n",
    "\n",
    "        circuit_i = whereIs[i]\n",
    "        circuit_j = whereIs[j]\n",
    "\n",
    "        #Si i et j ne sont pas dans le même circuit\n",
    "        if circuit_j != circuit_i\n",
    "\n",
    "            index_circuit_i = findfirst(item -> item == circuit_i, S)\n",
    "            index_circuit_j = findfirst(item -> item == circuit_j, S)\n",
    "\n",
    "            circuit_union = union(S[index_circuit_i], S[index_circuit_j])\n",
    "\n",
    "            #Calcul demande du nouveau circuit circuit_union\n",
    "            demandeUnion=0\n",
    "            for l in circuit_union[2:end] #commence à 2 car le premier noeud du circuit est 0 (le dépot n'a pas de demande)\n",
    "                demandeUnion += demands[l][t]\n",
    "            end\n",
    "            \n",
    "            #Si la demande du nouveau circuit n'est pas trop pour un seul camion\n",
    "            if demandeUnion <= Q\n",
    "                deleteat!(S, sort!([index_circuit_i, index_circuit_j]))\n",
    "\n",
    "                push!(S, circuit_union)\n",
    "\n",
    "\n",
    "                for index in circuit_union\n",
    "                    push!(whereIs, index=>circuit_union)\n",
    "                end\n",
    "\n",
    "            end\n",
    "        end\n",
    "\n",
    "    end\n",
    "\n",
    "    return S #la liste des circuits qui sont des tournées valides (qui respectent la contrainte de poids)\n",
    "end"
   ]
  },
  {
   "cell_type": "code",
   "execution_count": 64,
   "id": "9d566fdf",
   "metadata": {},
   "outputs": [
    {
     "data": {
      "text/plain": [
       "cw (generic function with 1 method)"
      ]
     },
     "execution_count": 64,
     "metadata": {},
     "output_type": "execute_result"
    }
   ],
   "source": [
    "\n",
    "function cw(data, demande, t)\n",
    "    \"\"\"\n",
    "    Paramètres : \n",
    "    data le dictionnaire contenant les données de l'instance\n",
    "    demande un tableau [1:n, 1:l] de taille n*l, demande[i,t] est la quantité produite pour le revendeur i à la période t, soit q[i,t] dans la notation LSP\n",
    "    t l'instant de temps à considérer\n",
    "    \"\"\"\n",
    "    # Nous utilisons sij = c0i + c0j - αcij + β|c0i + c0j | + γ di+dj / d\n",
    "    # avec α, β, γ pris entre 0 et 2 afin de prendre un peu en compte le fait\n",
    "    # que la fusion dépend plus ou moins des distances et plus ou moins des valeurs des demandes\n",
    "    alpha = 1\n",
    "    beta = 1\n",
    "    gamma = 1\n",
    "\n",
    "    # Récupération des données\n",
    "    Q = data[\"Q\"] # Q la capacité maximale de chaque véhicule\n",
    "    n = data[\"n\"] # n le nombre de clients donc le nombre de noeuds du graphe (sans compter le dépot) ici\n",
    "    cout = calcul_dist(data) # le cout de transport du client i (1:n+1) au j (1:n+1) (l'indice 1 est le centre de depot) \t\n",
    "    # Pour rappel, tous les indices de cout doivent être augmentés de 1 par rapport aux indices de l'énoncé (en julia, les indices commencent à 1)\n",
    "\n",
    "    # On créer l'ensemble de client à traiter\n",
    "    clients_t = []\n",
    "    d = 0\n",
    "    for i in 1:n\n",
    "        if demande[i+1][t] != 0 # On ne traite que les clients qui ont une demande pour ce pas de temps\n",
    "            d =  d + demande[i+1][t]\n",
    "            push!(clients_t, i)\n",
    "        end\n",
    "    end\n",
    "\n",
    "    # Partons d’une solution à n circuits définis comme les n allers-retours de 0 à chaque client i\n",
    "    solution = Array[]\n",
    "    for i in clients_t \n",
    "        push!(solution, [0,i]) # Un circuit aller-retrour de 0 à i est simplement caractérisé par une boite contenant les deux sommets 0 et i\n",
    "    end\n",
    "\n",
    "    # Calcul des s[i,j] \n",
    "    s = []\n",
    "    for i in clients_t \n",
    "        for j in clients_t \n",
    "            if i!=j\n",
    "                # On enregistre dans s à la fois le s[i,j] mais aussi les indices (i,j) pour ne pas les perdre lors du tri\n",
    "                push!(s, [(i,j), cout[1,i+1] + cout[1,j+1] - alpha*cout[i+1,j+1] + beta*abs(cout[1,i+1] + cout[1,j+1]) + gamma*(demande[i+1][t]+demande[j+1][t])/d])\n",
    "            end\n",
    "        end\n",
    "    end\n",
    "    \n",
    "    # Trier s par s[i,j] décroissant\n",
    "    sort!(s, by = x->x[2], rev=true) \n",
    "\n",
    "    # Parcours dans l'ordre des s[i,j] décroissant pour la fusion des circuits (boites)\n",
    "    for k in 1:length(s)\n",
    "        # On récupère les sommets i et j associés au s[i,j] que l'on traite\n",
    "        i = s[k][1][1]\n",
    "        j = s[k][1][2]\n",
    "        boite_i = []\n",
    "        boite_j = [] \n",
    "        indice_boite_i = -1\n",
    "        indice_boite_j = -1\n",
    "\n",
    "        # On cherche les circuits (boites) dans lesquels sont i et j\n",
    "        for indice_boite in 1:length(solution) \n",
    "            if i in solution[indice_boite]\n",
    "                boite_i = solution[indice_boite]\n",
    "                indice_boite_i = indice_boite\n",
    "            end\n",
    "\n",
    "            if j in solution[indice_boite]\n",
    "                boite_j = solution[indice_boite]\n",
    "                indice_boite_j = indice_boite\n",
    "            end\n",
    "\n",
    "            if indice_boite_i != -1 && indice_boite_j != -1 # On a donc trouvé les deux boites que l'on cherchait\n",
    "                break\n",
    "            end\n",
    "        end\n",
    "\n",
    "        # Si i et j ne sont pas dans la même boite\n",
    "        if indice_boite_j != indice_boite_i \n",
    "            # On crée la boite constituée des éléments de la boite de i auquel on ajoute tous les éléments de la boite de j (fusion des boites)\n",
    "            boite_fusionnee = copy(boite_i) \n",
    "            for elem in boite_j\n",
    "                if !(elem in boite_fusionnee)\n",
    "                    push!(boite_fusionnee, elem)\n",
    "                end\n",
    "            end\n",
    "\n",
    "            # On calcule la demande du nouveau circuit caractérisé par la boite boite_fusionnee\n",
    "            demande_fusion = 0 \n",
    "            for l in 2:length(boite_fusionnee) # Commence à 2 car les indices commencent à 1 et que le dépot est le premier élément et n'a pas de demande\n",
    "                demande_fusion += demande[boite_fusionnee[l]+1][t]\n",
    "            end\n",
    "\n",
    "            # Si la réunion des deux circuits ne dépasse pas la demande transportable par un seul véhicule, réunir en un seul circuit les deux circuits\n",
    "            if demande_fusion<=Q\n",
    "                # On supprime les circuits associés aux boites boite_i et boite_j\n",
    "                nouv_solution = []\n",
    "                for indice_boite in 1:length(solution)\n",
    "                    if indice_boite == indice_boite_i || indice_boite == indice_boite_j \n",
    "                        continue # On ne garde pas les anciens circuits (boites) dans lesquels étaient i ou j\n",
    "                    end\n",
    "                    push!(nouv_solution, solution[indice_boite])\n",
    "                end\n",
    "                solution = nouv_solution\n",
    "                push!(solution, boite_fusionnee) # On ajoute également le circuit constitué de la fusion des deux boites\n",
    "            end\n",
    "        end\n",
    "    end\n",
    "\n",
    "    return solution\n",
    "end"
   ]
  },
  {
   "cell_type": "code",
   "execution_count": 65,
   "id": "9f41c1f1",
   "metadata": {},
   "outputs": [
    {
     "name": "stdout",
     "output_type": "stream",
     "text": [
      "[[0, 1, 7, 10, 3, 2, 5, 9, 4, 8, 13, 6, 12, 11, 14]]\n",
      "Array[]\n",
      "[[0, 1, 7, 10, 3, 2, 5, 9, 4, 8, 13, 6, 12, 11, 14]]\n",
      "Any[[0, 1, 7, 3, 5, 2, 4, 6, 12, 8, 13, 11, 9, 10, 14]]\n",
      "[[0, 1, 7, 10, 3, 2, 5, 9, 4, 8, 13, 6, 12, 11, 14]]\n",
      "Any[[0, 1, 7, 3, 5, 2, 4, 6, 12, 8, 13, 11, 9, 10, 14]]\n",
      "[[0, 1, 7, 10, 3, 2, 5, 9, 4, 8, 13, 6, 12, 11, 14]]\n",
      "Any[[0, 1, 7, 3, 5, 2, 4, 6, 12, 8, 13, 11, 9, 10, 14]]\n",
      "[[0, 1, 7, 10, 3, 2, 5, 9, 4, 8, 13, 6, 12, 11, 14]]\n",
      "Any[[0, 1, 7, 3, 5, 2, 4, 6, 12, 8, 13, 11, 9, 10, 14]]\n",
      "[[0, 1, 7, 10, 3, 2, 5, 9, 4, 8, 13, 6, 12, 11, 14]]\n",
      "Any[[0, 1, 7, 3, 5, 2, 4, 6, 12, 8, 13, 11, 9, 10, 14]]\n"
     ]
    }
   ],
   "source": [
    "h = Read_PRP_instance(\"./PRP_instances/A_014_#ABS1_15_1.prp\")\n",
    "for t in 1:6\n",
    "    costs = calcul_dist(h)\n",
    "    println(clark_wright(h, h[\"Clients\"].d, costs, t))\n",
    "    println(cw(h, h[\"Clients\"].d, t))\n",
    "end"
   ]
  },
  {
   "cell_type": "code",
   "execution_count": 48,
   "id": "e393912a",
   "metadata": {},
   "outputs": [
    {
     "name": "stdout",
     "output_type": "stream",
     "text": [
      "[[0, 2, 3, 4, 5, 6, 7, 8, 9, 10, 11, 12, 13, 14, 15, 16, 17, 18, 19, 20, 21, 22, 23, 24, 25, 26, 27, 28, 29, 30, 31, 32, 33, 34, 35, 36, 37, 38, 39, 40, 41, 42, 43, 44, 45, 46, 47, 48, 49, 50, 51, 52, 53, 54, 55, 56, 57, 58, 59, 60, 61, 62, 63, 64, 65, 66, 67, 68, 69, 70, 71, 72, 73, 74, 75, 76, 77, 78, 79, 80, 81, 82, 83, 84, 85, 86, 87, 88, 89, 90, 91, 92, 93, 94, 95, 96, 97, 98, 99, 100, 101]]\n",
      "Vector{Int64}[]\n",
      "[[0, 2, 3, 4, 5, 6, 7, 8, 9, 10, 11, 12, 13, 14, 15, 16, 17, 18, 19, 20, 21, 22, 23, 24, 25, 26], [0, 27, 28, 29, 30, 31, 32, 33, 34, 35, 36, 37, 38, 39, 40, 41, 42, 43, 44, 45, 46, 47, 48, 49, 50, 51, 52, 53, 54, 55, 56, 57, 58, 59, 60, 61, 62, 63, 64, 65, 66, 67, 68, 69, 70, 71, 72, 73, 74, 75, 76, 77, 78, 79, 80, 81, 82, 83, 84, 85, 86, 87, 88], [0, 89, 90, 91, 92, 93, 94, 95, 96, 97, 98, 99, 100, 101]]\n",
      "[[0, 2, 3, 4, 5, 6, 7, 8, 9, 10, 11, 12, 13, 14, 15, 16, 17, 18, 19, 20, 21, 22, 23, 24, 25, 26], [0, 27, 28, 29, 30, 31, 32, 33, 34, 35, 36, 37, 38, 39, 40, 41, 42, 43, 44, 45, 46, 47, 48, 49, 50, 51, 52, 53, 54, 55, 56, 57, 58, 59, 60, 61, 62, 63, 64, 65, 66, 67, 68, 69, 70, 71, 72, 73, 74, 75, 76, 77, 78, 79, 80, 81, 82, 83, 84, 85, 86, 87, 88], [0, 89, 90, 91, 92, 93, 94, 95, 96, 97, 98, 99, 100]]\n",
      "[[0, 2, 3, 4, 5, 6, 7, 8, 9, 10, 11, 12, 13, 14, 15, 16, 17, 18, 19, 20, 21, 22, 23, 24, 25, 26, 27], [0, 28, 29, 30, 31, 32, 33, 34, 35, 36, 37, 38, 39, 40, 41, 42, 43, 44, 45, 46, 47, 48, 49, 50, 51, 52, 53, 54, 55, 56, 57, 58, 59, 60, 61, 62, 63, 64, 65, 66, 67, 68, 69, 70, 71, 72, 73, 74, 75, 76, 77, 78, 79, 80, 81, 82, 83, 84, 85, 86, 87, 88, 89, 90], [0, 91, 92, 93, 94, 95, 96, 97, 98, 99, 100, 101]]\n",
      "[[0, 2, 3, 4, 5, 6, 7, 8, 9, 10, 11, 12, 13, 14, 15, 16, 17, 18, 19, 20, 21, 22, 23, 24, 25, 26, 27], [0, 28, 29, 30, 31, 32, 33, 34, 35, 36, 37, 38, 39, 40, 41, 42, 43, 44, 45, 46, 47, 48, 49, 50, 51, 52, 53, 54, 55, 56, 57, 58, 59, 60, 61, 62, 63, 64, 65, 66, 67, 68, 69, 70, 71, 72, 73, 74, 75, 76, 77, 78, 79, 80, 81, 82, 83, 84, 85, 86, 87, 88, 89, 90], [0, 91, 92, 93, 94, 95, 96, 97, 98, 99, 100]]\n",
      "[[0, 2, 3, 4, 5, 6, 7, 8, 9, 10, 11, 12, 13, 14, 15, 16, 17, 18, 19, 20, 21, 22, 23, 24, 25, 26, 27, 28, 29], [0, 30, 31, 32, 33, 34, 35, 36, 37, 38, 39, 40, 41, 42, 43, 44, 45, 46, 47, 48, 49, 50, 51, 52, 53, 54, 55, 56, 57, 58, 59, 60, 61, 62, 63, 64, 65, 66, 67, 68, 69, 70, 71, 72, 73, 74, 75, 76, 77, 78, 79, 80, 81, 82, 83, 84, 85, 86, 87, 88, 89, 90, 91, 92, 93, 94], [0, 95, 96, 97, 98, 99, 100, 101]]\n",
      "[[0, 2, 3, 4, 5, 6, 7, 8, 9, 10, 11, 12, 13, 14, 15, 16, 17, 18, 19, 20, 21, 22, 23, 24, 25, 26, 27, 28, 29], [0, 30, 31, 32, 33, 34, 35, 36, 37, 38, 39, 40, 41, 42, 43, 44, 45, 46, 47, 48, 49, 50, 51, 52, 53, 54, 55, 56, 57, 58, 59, 60, 61, 62, 63, 64, 65, 66, 67, 68, 69, 70, 71, 72, 73, 74, 75, 76, 77, 78, 79, 80, 81, 82, 83, 84, 85, 86, 87, 88, 89, 90, 91, 92, 93, 94], [0, 95, 96, 97, 98, 99, 100]]\n",
      "[[0, 2, 3, 4, 5, 6, 7, 8, 9, 10, 11, 12, 13, 14, 15, 16, 17, 18, 19, 20, 21, 22, 23, 24, 25, 26, 27, 28, 29, 30], [0, 31, 32, 33, 34, 35, 36, 37, 38, 39, 40, 41, 42, 43, 44, 45, 46, 47, 48, 49, 50, 51, 52, 53, 54, 55, 56, 57, 58, 59, 60, 61, 62, 63, 64, 65, 66, 67, 68, 69, 70, 71, 72, 73, 74, 75, 76, 77, 78, 79, 80, 81, 82, 83, 84, 85, 86, 87, 88, 89, 90, 91, 92, 93], [0, 94, 95, 96, 97, 98, 99, 100, 101]]\n",
      "[[0, 2, 3, 4, 5, 6, 7, 8, 9, 10, 11, 12, 13, 14, 15, 16, 17, 18, 19, 20, 21, 22, 23, 24, 25, 26, 27, 28, 29, 30], [0, 31, 32, 33, 34, 35, 36, 37, 38, 39, 40, 41, 42, 43, 44, 45, 46, 47, 48, 49, 50, 51, 52, 53, 54, 55, 56, 57, 58, 59, 60, 61, 62, 63, 64, 65, 66, 67, 68, 69, 70, 71, 72, 73, 74, 75, 76, 77, 78, 79, 80, 81, 82, 83, 84, 85, 86, 87, 88, 89, 90, 91, 92, 93], [0, 94, 95, 96, 97, 98, 99, 100]]\n",
      "[[0, 2, 3, 4, 5, 6, 7, 8, 9, 10, 11, 12, 13, 14, 15, 16, 17, 18, 19, 20, 21, 22, 23], [0, 24, 25, 26, 27, 28, 29, 30, 31, 32, 33, 34, 35, 36, 37, 38, 39, 40, 41, 42, 43, 44, 45, 46, 47, 48, 49, 50, 51, 52], [0, 53, 54, 55, 56, 57, 58, 59, 60, 61, 62, 63, 64, 65, 66, 67, 68, 69, 70, 71, 72, 73, 74, 75, 76, 77, 78, 79, 80, 81, 82, 83, 84, 85, 86, 87, 88, 89, 90, 91, 92, 93, 94, 95, 96, 97, 98, 99, 100, 101]]\n",
      "[[0, 2, 3, 4, 5, 6, 7, 8, 9, 10, 11, 12, 13, 14, 15, 16, 17, 18, 19, 20, 21, 22, 23], [0, 24, 25, 26, 27, 28, 29, 30, 31, 32, 33, 34, 35, 36, 37, 38, 39, 40, 41, 42, 43, 44, 45, 46, 47, 48, 49, 50, 51, 52], [0, 53, 54, 55, 56, 57, 58, 59, 60, 61, 62, 63, 64, 65, 66, 67, 68, 69, 70, 71, 72, 73, 74, 75, 76, 77, 78, 79, 80, 81, 82, 83, 84, 85, 86, 87, 88, 89, 90, 91, 92, 93, 94, 95, 96, 97, 98, 99, 100]]\n"
     ]
    }
   ],
   "source": [
    "h = Read_PRP_instance(B_100)\n",
    "for t in 1:6\n",
    "    costs = calcul_dist(h)\n",
    "    #println(clark_wright(h, h[\"Clients\"].d, costs, t))\n",
    "    println(binPacking(h, t))\n",
    "    println(Bin_Packing(h, t))\n",
    "end"
   ]
  },
  {
   "cell_type": "code",
   "execution_count": null,
   "id": "c512be5f",
   "metadata": {},
   "outputs": [],
   "source": []
  }
 ],
 "metadata": {
  "kernelspec": {
   "display_name": "Julia 1.8.2",
   "language": "julia",
   "name": "julia-1.8"
  },
  "language_info": {
   "file_extension": ".jl",
   "mimetype": "application/julia",
   "name": "julia",
   "version": "1.8.2"
  }
 },
 "nbformat": 4,
 "nbformat_minor": 5
}
