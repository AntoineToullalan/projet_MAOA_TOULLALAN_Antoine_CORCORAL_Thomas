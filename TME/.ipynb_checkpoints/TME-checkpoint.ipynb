{
 "cells": [
  {
   "cell_type": "code",
   "execution_count": 1,
   "id": "4f1cb62c",
   "metadata": {
    "scrolled": true
   },
   "outputs": [
    {
     "name": "stderr",
     "output_type": "stream",
     "text": [
      "\u001b[32m\u001b[1m    Updating\u001b[22m\u001b[39m registry at `~/Documents/master/MAOA/julia-1.8.2/.julia_commun_a_tous/registries/General.toml`\n",
      "\u001b[32m\u001b[1m   Resolving\u001b[22m\u001b[39m package versions...\n",
      "\u001b[32m\u001b[1m  No Changes\u001b[22m\u001b[39m to `~/Documents/master/MAOA/julia-1.8.2/.julia_commun_a_tous/environments/v1.8/Project.toml`\n",
      "\u001b[32m\u001b[1m  No Changes\u001b[22m\u001b[39m to `~/Documents/master/MAOA/julia-1.8.2/.julia_commun_a_tous/environments/v1.8/Manifest.toml`\n",
      "\u001b[32m\u001b[1m   Resolving\u001b[22m\u001b[39m package versions...\n",
      "\u001b[32m\u001b[1m  No Changes\u001b[22m\u001b[39m to `~/Documents/master/MAOA/julia-1.8.2/.julia_commun_a_tous/environments/v1.8/Project.toml`\n",
      "\u001b[32m\u001b[1m  No Changes\u001b[22m\u001b[39m to `~/Documents/master/MAOA/julia-1.8.2/.julia_commun_a_tous/environments/v1.8/Manifest.toml`\n",
      "\u001b[32m\u001b[1m   Resolving\u001b[22m\u001b[39m package versions...\n",
      "\u001b[32m\u001b[1m  No Changes\u001b[22m\u001b[39m to `~/Documents/master/MAOA/julia-1.8.2/.julia_commun_a_tous/environments/v1.8/Project.toml`\n",
      "\u001b[32m\u001b[1m  No Changes\u001b[22m\u001b[39m to `~/Documents/master/MAOA/julia-1.8.2/.julia_commun_a_tous/environments/v1.8/Manifest.toml`\n",
      "\u001b[32m\u001b[1m   Resolving\u001b[22m\u001b[39m package versions...\n",
      "\u001b[32m\u001b[1m  No Changes\u001b[22m\u001b[39m to `~/Documents/master/MAOA/julia-1.8.2/.julia_commun_a_tous/environments/v1.8/Project.toml`\n",
      "\u001b[32m\u001b[1m  No Changes\u001b[22m\u001b[39m to `~/Documents/master/MAOA/julia-1.8.2/.julia_commun_a_tous/environments/v1.8/Manifest.toml`\n",
      "\u001b[32m\u001b[1m   Resolving\u001b[22m\u001b[39m package versions...\n",
      "\u001b[32m\u001b[1m  No Changes\u001b[22m\u001b[39m to `~/Documents/master/MAOA/julia-1.8.2/.julia_commun_a_tous/environments/v1.8/Project.toml`\n",
      "\u001b[32m\u001b[1m  No Changes\u001b[22m\u001b[39m to `~/Documents/master/MAOA/julia-1.8.2/.julia_commun_a_tous/environments/v1.8/Manifest.toml`\n",
      "\u001b[32m\u001b[1m   Resolving\u001b[22m\u001b[39m package versions...\n",
      "\u001b[32m\u001b[1m  No Changes\u001b[22m\u001b[39m to `~/Documents/master/MAOA/julia-1.8.2/.julia_commun_a_tous/environments/v1.8/Project.toml`\n",
      "\u001b[32m\u001b[1m  No Changes\u001b[22m\u001b[39m to `~/Documents/master/MAOA/julia-1.8.2/.julia_commun_a_tous/environments/v1.8/Manifest.toml`\n",
      "\u001b[32m\u001b[1m   Resolving\u001b[22m\u001b[39m package versions...\n",
      "\u001b[32m\u001b[1m  No Changes\u001b[22m\u001b[39m to `~/Documents/master/MAOA/julia-1.8.2/.julia_commun_a_tous/environments/v1.8/Project.toml`\n",
      "\u001b[32m\u001b[1m  No Changes\u001b[22m\u001b[39m to `~/Documents/master/MAOA/julia-1.8.2/.julia_commun_a_tous/environments/v1.8/Manifest.toml`\n",
      "\u001b[32m\u001b[1m   Resolving\u001b[22m\u001b[39m package versions...\n",
      "\u001b[32m\u001b[1m  No Changes\u001b[22m\u001b[39m to `~/Documents/master/MAOA/julia-1.8.2/.julia_commun_a_tous/environments/v1.8/Project.toml`\n",
      "\u001b[32m\u001b[1m  No Changes\u001b[22m\u001b[39m to `~/Documents/master/MAOA/julia-1.8.2/.julia_commun_a_tous/environments/v1.8/Manifest.toml`\n",
      "\u001b[32m\u001b[1m   Resolving\u001b[22m\u001b[39m package versions...\n",
      "\u001b[32m\u001b[1m  No Changes\u001b[22m\u001b[39m to `~/Documents/master/MAOA/julia-1.8.2/.julia_commun_a_tous/environments/v1.8/Project.toml`\n",
      "\u001b[32m\u001b[1m  No Changes\u001b[22m\u001b[39m to `~/Documents/master/MAOA/julia-1.8.2/.julia_commun_a_tous/environments/v1.8/Manifest.toml`\n",
      "\u001b[32m\u001b[1m   Resolving\u001b[22m\u001b[39m package versions...\n",
      "\u001b[32m\u001b[1m  No Changes\u001b[22m\u001b[39m to `~/Documents/master/MAOA/julia-1.8.2/.julia_commun_a_tous/environments/v1.8/Project.toml`\n",
      "\u001b[32m\u001b[1m  No Changes\u001b[22m\u001b[39m to `~/Documents/master/MAOA/julia-1.8.2/.julia_commun_a_tous/environments/v1.8/Manifest.toml`\n"
     ]
    }
   ],
   "source": [
    "import Pkg;\n",
    "Pkg.add(\"Plots\");\n",
    "Pkg.add(\"CPUTime\");\n",
    "Pkg.add(\"Graphs\"); \n",
    "Pkg.add(\"SimpleWeightedGraphs\"); \n",
    "Pkg.add(\"Cairo\");\n",
    "Pkg.add(\"Compose\"); \n",
    "Pkg.add(\"Fontconfig\"); \n",
    "Pkg.add(\"GraphPlot\"); \n",
    "Pkg.add(\"Colors\");\n",
    "Pkg.add(\"LightGraphs\");"
   ]
  },
  {
   "cell_type": "code",
   "execution_count": 2,
   "id": "768e8217",
   "metadata": {},
   "outputs": [],
   "source": [
    "using LightGraphs\n",
    "using GraphPlot\n",
    "using Graphs\n",
    "using CPUTime"
   ]
  },
  {
   "cell_type": "code",
   "execution_count": 3,
   "id": "07155711",
   "metadata": {},
   "outputs": [
    {
     "data": {
      "text/plain": [
       "Affiche_n_fois_une_chaine (generic function with 1 method)"
      ]
     },
     "execution_count": 3,
     "metadata": {},
     "output_type": "execute_result"
    }
   ],
   "source": [
    "function Affiche_n_fois_une_chaine(n,chaine)\n",
    "   # Dans cette boucle for, la variable i prend les valeurs de 1,2,3,4..n\n",
    "   for i = 1:n\n",
    "      println(chaine)\n",
    "   end\n",
    "end"
   ]
  },
  {
   "cell_type": "code",
   "execution_count": 4,
   "id": "4b4ea07f",
   "metadata": {},
   "outputs": [
    {
     "name": "stdout",
     "output_type": "stream",
     "text": [
      "Bonjour\n",
      "Bonjour\n",
      "Bonjour\n"
     ]
    }
   ],
   "source": [
    "machaine=\"Bonjour\"\n",
    "Affiche_n_fois_une_chaine(3, machaine)"
   ]
  },
  {
   "cell_type": "code",
   "execution_count": 5,
   "id": "603c6bfb",
   "metadata": {},
   "outputs": [
    {
     "data": {
      "text/plain": [
       "Dessine_courbe (generic function with 1 method)"
      ]
     },
     "execution_count": 5,
     "metadata": {},
     "output_type": "execute_result"
    }
   ],
   "source": [
    "#= Programme permettant de construire une courbe à partir \n",
    "   de couples (x_i,y_i) de données.\n",
    "   Ces couples sont rassemblées dans un fichier où\n",
    "   chaque paire compose une ligne avec un espace entre 2 nombres.\n",
    "   Un fichier exemple donnees.txt peut être trouvé sur le site du TP\n",
    "   Le programme se lance par la fonction Dessine_courbe avec en paramètre\n",
    "   le nom du fichier de données.\n",
    "=#\n",
    "\n",
    "# Le package Plots va nous permettre de dessiner\n",
    "# mais il faut auparavant avoir taper: import Pkg; Pkg.add(\"Plots\")\n",
    "\n",
    "ENV[\"GKSwstype\"] = \"nul\"  # redirige les sorties de Plots vers les fichiers et non à l'écran\n",
    "using Plots\n",
    "\n",
    "\n",
    "# Fonction qui lit un fichier de données et renvoie le nombre de données et la liste des données\n",
    "\n",
    "function Lit_fichier_données(nom_fichier, tabX, tabY)\n",
    "\n",
    "  open(nom_fichier) do f\n",
    "        \n",
    "        for (i,line) in enumerate(eachline(f)) \n",
    "              lg = split(line,\" \")      # découpe la ligne suivant les espaces et crée un tableau \n",
    "              x= parse(Float16,lg[1])   # traduit la lecture texte en un réel\n",
    "              y= parse(Float16,lg[2])\n",
    "              push!(tabX,x)             # ajoute la donnée au tableau-liste le ! évoque le fait que tabX est modifié\n",
    "              push!(tabY,y)\n",
    "        end\n",
    "    \n",
    "  end\n",
    "  return size(tabX)[1]\n",
    "end\n",
    "\n",
    "\n",
    "# Fonction Dessine_courbe\n",
    "\n",
    "function Dessine_courbe(nom_fichier)\n",
    "\n",
    "    tabX= Float16[]\n",
    "    tabY= Float16[]\n",
    "\n",
    "    println(\"Lecture du fichier: \", nom_fichier)\n",
    "\n",
    "    n=Lit_fichier_données(nom_fichier, tabX, tabY)\n",
    "\n",
    "    println(\"Le fichier contient \",n, \" paires de données\")\n",
    "  \n",
    "    nom_fichier_en_deux_morceaux = split(nom_fichier,\".\") # découpe le nom du fichie d'entrée sans l'extension\n",
    "    nom_fichier_avec_pdf_a_la_fin= nom_fichier_en_deux_morceaux[1]*\".pdf\"\n",
    "\n",
    "    println(\"Création du fichier de courbes: \", nom_fichier_avec_pdf_a_la_fin)\n",
    "\n",
    "    Plots.plot(tabX,tabY)\n",
    "    Plots.savefig(nom_fichier_avec_pdf_a_la_fin)  # Ecrit la courbe créée à la ligne précédente dans un fichier .pdf\n",
    "\n",
    "end    "
   ]
  },
  {
   "cell_type": "code",
   "execution_count": 6,
   "id": "8b316335",
   "metadata": {},
   "outputs": [
    {
     "name": "stdout",
     "output_type": "stream",
     "text": [
      "Lecture du fichier: test.txt\n",
      "Le fichier contient 7 paires de données\n",
      "Création du fichier de courbes: test.pdf\n"
     ]
    },
    {
     "data": {
      "text/plain": [
       "\"/home/thomas/Documents/master/MAOA/projet_MAOA_TOULLALAN_Antoine_CORCORAL_Thomas/TME/test.pdf\""
      ]
     },
     "execution_count": 6,
     "metadata": {},
     "output_type": "execute_result"
    }
   ],
   "source": [
    "Dessine_courbe(\"test.txt\")"
   ]
  },
  {
   "cell_type": "code",
   "execution_count": 7,
   "id": "52c002d9",
   "metadata": {},
   "outputs": [
    {
     "data": {
      "text/plain": [
       "Fonction_a_chronométrer (generic function with 1 method)"
      ]
     },
     "execution_count": 7,
     "metadata": {},
     "output_type": "execute_result"
    }
   ],
   "source": [
    "function Fonction_a_chronométrer()\n",
    "    x = 0\n",
    "    for i in 1:10_000_000\n",
    "        x += i\n",
    "    end\n",
    "    sleep(1)\n",
    "end"
   ]
  },
  {
   "cell_type": "code",
   "execution_count": 8,
   "id": "3936019c",
   "metadata": {},
   "outputs": [
    {
     "name": "stdout",
     "output_type": "stream",
     "text": [
      "elapsed CPU time: 0.011588 seconds\n",
      "  1.056611 seconds (44.33 k allocations: 2.281 MiB, 4.12% compilation time)\n"
     ]
    }
   ],
   "source": [
    "@time @CPUtime Fonction_a_chronométrer()"
   ]
  },
  {
   "cell_type": "code",
   "execution_count": 9,
   "id": "6fe7d691",
   "metadata": {},
   "outputs": [
    {
     "data": {
      "text/plain": [
       "Read_undirected_Graph_DIMACS (generic function with 1 method)"
      ]
     },
     "execution_count": 9,
     "metadata": {},
     "output_type": "execute_result"
    }
   ],
   "source": [
    "function Read_undirected_Graph_DIMACS(filename)\n",
    "\n",
    "    g=SimpleGraph(1) # Creation of an undirected graph with 1 node\n",
    "\n",
    "    open(filename) do f\n",
    "       \n",
    "           for (i,line) in enumerate(eachline(f))\n",
    "              x = split(line,\" \") # For each line of the file, splitted using space as separator\n",
    "              if(x[1]==\"p\")       # A line beginning with a 'p' gives the graph size\n",
    "                  n = parse(Int,x[3])\n",
    "                  g = SimpleGraph(n)  # Recreation of a undirected graph with n nodes\n",
    "              elseif(x[1] == \"e\") # A line beginning with a 'e' gives the edges\n",
    "                  v_1 = parse(Int, x[2])\n",
    "                  v_2 = parse(Int, x[3])\n",
    "                  add_edge!(g,v_1,v_2)\n",
    "                  #g.weights[v_1,v_2] = 1  # without edge weight\n",
    "               end\n",
    "           end\n",
    "    end\n",
    "    return g\n",
    "end"
   ]
  },
  {
   "cell_type": "code",
   "execution_count": 10,
   "id": "6d327ae9",
   "metadata": {},
   "outputs": [
    {
     "data": {
      "text/plain": [
       "Read_directed_Graph_GRA (generic function with 1 method)"
      ]
     },
     "execution_count": 10,
     "metadata": {},
     "output_type": "execute_result"
    }
   ],
   "source": [
    "function Read_directed_Graph_GRA(filename)\n",
    "\n",
    "    g=SimpleDiGraph(1)\t # Creation of a directed graph with 1 node\n",
    "\n",
    "    open(filename) do f\n",
    "       \n",
    "           for (i,line) in enumerate(eachline(f))\n",
    "              x = split(line,\" \") # For each line of the file, splitted using space as separator\n",
    "              if (i==1)\n",
    "                  n = parse(Int,x[1])  # Read the number of nodes\n",
    "                  g = SimpleDiGraph(n)  # Recreation of a directed graph with n nodes\n",
    "              else\n",
    "                  j=3\n",
    "                  while (j<size(x)[1]-1)\n",
    "                    v_1 = parse(Int, x[1])\n",
    "                    v_2 = parse(Int, x[j])\n",
    "                    add_edge!(g,v_1+1,v_2+1)   # in this case an edge is oriented as an arc\n",
    "                    #g.weights[v_1+1,v_2+] = 1  # without arc weight\n",
    "                    j=j+1\n",
    "                  end\n",
    "              end\n",
    "           end\n",
    "    end\n",
    "    return g\n",
    "end"
   ]
  },
  {
   "cell_type": "code",
   "execution_count": 11,
   "id": "586c068b",
   "metadata": {
    "scrolled": true
   },
   "outputs": [
    {
     "ename": "LoadError",
     "evalue": "The following package names could not be resolved:\n * PDF (not found in project, manifest or registry)\n\u001b[36m   Suggestions:\u001b[39m \u001b[0m\u001b[1mP\u001b[22m\u001b[0m\u001b[1mD\u001b[22m\u001b[0m\u001b[1mF\u001b[22mIO \u001b[0m\u001b[1mP\u001b[22m\u001b[0m\u001b[1mD\u001b[22m\u001b[0m\u001b[1mF\u001b[22mmerger \u001b[0m\u001b[1mP\u001b[22m\u001b[0m\u001b[1mD\u001b[22m\u001b[0m\u001b[1mF\u001b[22mHighlights \u001b[0m\u001b[1mP\u001b[22m\u001b[0m\u001b[1mD\u001b[22m\u001b[0m\u001b[1mF\u001b[22mHighlights_jll LHA\u001b[0m\u001b[1mP\u001b[22m\u001b[0m\u001b[1mD\u001b[22m\u001b[0m\u001b[1mF\u001b[22m_jll",
     "output_type": "error",
     "traceback": [
      "The following package names could not be resolved:\n * PDF (not found in project, manifest or registry)\n\u001b[36m   Suggestions:\u001b[39m \u001b[0m\u001b[1mP\u001b[22m\u001b[0m\u001b[1mD\u001b[22m\u001b[0m\u001b[1mF\u001b[22mIO \u001b[0m\u001b[1mP\u001b[22m\u001b[0m\u001b[1mD\u001b[22m\u001b[0m\u001b[1mF\u001b[22mmerger \u001b[0m\u001b[1mP\u001b[22m\u001b[0m\u001b[1mD\u001b[22m\u001b[0m\u001b[1mF\u001b[22mHighlights \u001b[0m\u001b[1mP\u001b[22m\u001b[0m\u001b[1mD\u001b[22m\u001b[0m\u001b[1mF\u001b[22mHighlights_jll LHA\u001b[0m\u001b[1mP\u001b[22m\u001b[0m\u001b[1mD\u001b[22m\u001b[0m\u001b[1mF\u001b[22m_jll",
      "",
      "Stacktrace:",
      "  [1] pkgerror(msg::String)",
      "    @ Pkg.Types ~/Documents/master/MAOA/julia-1.8.2/share/julia/stdlib/v1.8/Pkg/src/Types.jl:67",
      "  [2] ensure_resolved(ctx::Pkg.Types.Context, manifest::Pkg.Types.Manifest, pkgs::Vector{Pkg.Types.PackageSpec}; registry::Bool)",
      "    @ Pkg.Types ~/Documents/master/MAOA/julia-1.8.2/share/julia/stdlib/v1.8/Pkg/src/Types.jl:952",
      "  [3] add(ctx::Pkg.Types.Context, pkgs::Vector{Pkg.Types.PackageSpec}; preserve::Pkg.Types.PreserveLevel, platform::Base.BinaryPlatforms.Platform, kwargs::Base.Pairs{Symbol, IJulia.IJuliaStdio{Base.PipeEndpoint}, Tuple{Symbol}, NamedTuple{(:io,), Tuple{IJulia.IJuliaStdio{Base.PipeEndpoint}}}})",
      "    @ Pkg.API ~/Documents/master/MAOA/julia-1.8.2/share/julia/stdlib/v1.8/Pkg/src/API.jl:264",
      "  [4] add(pkgs::Vector{Pkg.Types.PackageSpec}; io::IJulia.IJuliaStdio{Base.PipeEndpoint}, kwargs::Base.Pairs{Symbol, Union{}, Tuple{}, NamedTuple{(), Tuple{}}})",
      "    @ Pkg.API ~/Documents/master/MAOA/julia-1.8.2/share/julia/stdlib/v1.8/Pkg/src/API.jl:156",
      "  [5] add(pkgs::Vector{Pkg.Types.PackageSpec})",
      "    @ Pkg.API ~/Documents/master/MAOA/julia-1.8.2/share/julia/stdlib/v1.8/Pkg/src/API.jl:145",
      "  [6] #add#27",
      "    @ ~/Documents/master/MAOA/julia-1.8.2/share/julia/stdlib/v1.8/Pkg/src/API.jl:144 [inlined]",
      "  [7] add",
      "    @ ~/Documents/master/MAOA/julia-1.8.2/share/julia/stdlib/v1.8/Pkg/src/API.jl:144 [inlined]",
      "  [8] #add#26",
      "    @ ~/Documents/master/MAOA/julia-1.8.2/share/julia/stdlib/v1.8/Pkg/src/API.jl:143 [inlined]",
      "  [9] add(pkg::String)",
      "    @ Pkg.API ~/Documents/master/MAOA/julia-1.8.2/share/julia/stdlib/v1.8/Pkg/src/API.jl:143",
      " [10] top-level scope",
      "    @ In[11]:1",
      " [11] eval",
      "    @ ./boot.jl:368 [inlined]",
      " [12] include_string(mapexpr::typeof(REPL.softscope), mod::Module, code::String, filename::String)",
      "    @ Base ./loading.jl:1428"
     ]
    }
   ],
   "source": [
    "Pkg.add(\"PDF\");\n",
    "using PDF;"
   ]
  },
  {
   "cell_type": "code",
   "execution_count": 12,
   "id": "114ffc94",
   "metadata": {},
   "outputs": [
    {
     "data": {
      "text/plain": [
       "WritePdf_visualization_Graph (generic function with 1 method)"
      ]
     },
     "execution_count": 12,
     "metadata": {},
     "output_type": "execute_result"
    }
   ],
   "source": [
    "function WritePdf_visualization_Graph(G,filename)\n",
    "    filename_splitted_in_two_parts = split(filename,\".\") # split to remove the file extension\n",
    "    filename_with_pdf_as_extension= filename_splitted_in_two_parts[1]*\".pdf\"\n",
    "    # save to pdf\n",
    "    draw(PDF(filename_with_pdf_as_extension, 16, 16), gplot(G, nodelabel = 1:nv(G)))\n",
    "end"
   ]
  },
  {
   "cell_type": "code",
   "execution_count": 13,
   "id": "41b59507",
   "metadata": {},
   "outputs": [
    {
     "name": "stderr",
     "output_type": "stream",
     "text": [
      "WARNING: both Graphs and LightGraphs export \"SimpleGraph\"; uses of it in module Main must be qualified\n",
      "WARNING: both Graphs and LightGraphs export \"add_edge!\"; uses of it in module Main must be qualified\n"
     ]
    },
    {
     "ename": "LoadError",
     "evalue": "UndefVarError: SimpleGraph not defined",
     "output_type": "error",
     "traceback": [
      "UndefVarError: SimpleGraph not defined",
      "",
      "Stacktrace:",
      " [1] Read_undirected_Graph_DIMACS(filename::String)",
      "   @ Main ./In[9]:3",
      " [2] top-level scope",
      "   @ In[13]:1",
      " [3] eval",
      "   @ ./boot.jl:368 [inlined]",
      " [4] include_string(mapexpr::typeof(REPL.softscope), mod::Module, code::String, filename::String)",
      "   @ Base ./loading.jl:1428"
     ]
    }
   ],
   "source": [
    "g = Read_undirected_Graph_DIMACS(\"Instances/DIMACS/0023_myciel4.dim\");\n",
    "gplot(g, nodelabel = 1:nv(g))"
   ]
  },
  {
   "cell_type": "code",
   "execution_count": 14,
   "id": "30cf11ea",
   "metadata": {},
   "outputs": [
    {
     "ename": "LoadError",
     "evalue": "UndefVarError: g not defined",
     "output_type": "error",
     "traceback": [
      "UndefVarError: g not defined",
      "",
      "Stacktrace:",
      " [1] top-level scope",
      "   @ In[14]:1",
      " [2] eval",
      "   @ ./boot.jl:368 [inlined]",
      " [3] include_string(mapexpr::typeof(REPL.softscope), mod::Module, code::String, filename::String)",
      "   @ Base ./loading.jl:1428"
     ]
    }
   ],
   "source": [
    "WritePdf_visualization_Graph(g, \"Instances/DIMACS/0023_myciel4.dim\")"
   ]
  },
  {
   "cell_type": "code",
   "execution_count": null,
   "id": "16968ddf",
   "metadata": {},
   "outputs": [],
   "source": []
  }
 ],
 "metadata": {
  "kernelspec": {
   "display_name": "Julia 1.8.2",
   "language": "julia",
   "name": "julia-1.8"
  },
  "language_info": {
   "file_extension": ".jl",
   "mimetype": "application/julia",
   "name": "julia",
   "version": "1.8.2"
  }
 },
 "nbformat": 4,
 "nbformat_minor": 5
}
