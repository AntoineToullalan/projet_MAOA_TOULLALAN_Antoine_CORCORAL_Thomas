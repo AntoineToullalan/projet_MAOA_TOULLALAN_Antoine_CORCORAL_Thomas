{
 "cells": [
  {
   "cell_type": "code",
   "execution_count": 2,
   "id": "f7303dba",
   "metadata": {},
   "outputs": [
    {
     "name": "stderr",
     "output_type": "stream",
     "text": [
      "\u001b[32m\u001b[1m    Updating\u001b[22m\u001b[39m registry at `~/.julia/registries/General.toml`\n",
      "\u001b[32m\u001b[1m   Resolving\u001b[22m\u001b[39m package versions...\n",
      "\u001b[32m\u001b[1m  No Changes\u001b[22m\u001b[39m to `~/.julia/environments/v1.8/Project.toml`\n",
      "\u001b[32m\u001b[1m  No Changes\u001b[22m\u001b[39m to `~/.julia/environments/v1.8/Manifest.toml`\n",
      "\u001b[32m\u001b[1mPrecompiling\u001b[22m\u001b[39m project...\n",
      "\u001b[32m  ✓ \u001b[39m\u001b[90mCEnum\u001b[39m\n",
      "\u001b[91m  ✗ \u001b[39mCPLEX\n",
      "  1 dependency successfully precompiled in 5 seconds. 60 already precompiled.\n",
      "  \u001b[91m1\u001b[39m dependency errored. To see a full report either run `import Pkg; Pkg.precompile()` or load the package\n",
      "\u001b[32m\u001b[1m   Resolving\u001b[22m\u001b[39m package versions...\n",
      "\u001b[32m\u001b[1m   Installed\u001b[22m\u001b[39m CPUTime ─ v1.0.0\n",
      "\u001b[32m\u001b[1m    Updating\u001b[22m\u001b[39m `~/.julia/environments/v1.8/Project.toml`\n",
      " \u001b[90m [a9c8d775] \u001b[39m\u001b[92m+ CPUTime v1.0.0\u001b[39m\n",
      "\u001b[32m\u001b[1m    Updating\u001b[22m\u001b[39m `~/.julia/environments/v1.8/Manifest.toml`\n",
      " \u001b[90m [a9c8d775] \u001b[39m\u001b[92m+ CPUTime v1.0.0\u001b[39m\n",
      "\u001b[32m\u001b[1mPrecompiling\u001b[22m\u001b[39m project...\n",
      "\u001b[32m  ✓ \u001b[39mCPUTime\n",
      "  1 dependency successfully precompiled in 1 seconds. 61 already precompiled. 1 skipped during auto due to previous errors.\n",
      "\u001b[32m\u001b[1m   Resolving\u001b[22m\u001b[39m package versions...\n",
      "\u001b[32m\u001b[1m  No Changes\u001b[22m\u001b[39m to `~/.julia/environments/v1.8/Project.toml`\n",
      "\u001b[32m\u001b[1m  No Changes\u001b[22m\u001b[39m to `~/.julia/environments/v1.8/Manifest.toml`\n"
     ]
    }
   ],
   "source": [
    "import Pkg;\n",
    "Pkg.add(\"JuMP\")\n",
    "Pkg.add(\"CPUTime\")\n",
    "Pkg.add(\"Graphs\")"
   ]
  },
  {
   "cell_type": "code",
   "execution_count": 3,
   "id": "bcb47c2f",
   "metadata": {},
   "outputs": [],
   "source": [
    "using JuMP\n",
    "#using CPLEX\n",
    "using CPUTime\n",
    "using Graphs"
   ]
  },
  {
   "cell_type": "code",
   "execution_count": 4,
   "id": "dea21557",
   "metadata": {},
   "outputs": [],
   "source": [
    "struct Clients\n",
    "    nb_clients\n",
    "    X\n",
    "    Y\n",
    "    h\n",
    "    L\n",
    "    L0\n",
    "    d\n",
    "end"
   ]
  },
  {
   "cell_type": "code",
   "execution_count": 5,
   "id": "2de5666f",
   "metadata": {},
   "outputs": [
    {
     "data": {
      "text/plain": [
       "Read_PRP_instance (generic function with 1 method)"
      ]
     },
     "execution_count": 5,
     "metadata": {},
     "output_type": "execute_result"
    }
   ],
   "source": [
    "function Read_PRP_instance(filename)\n",
    "    hashmap = Dict()\n",
    "    open(filename) do f\n",
    "        \n",
    "        demands = false\n",
    "        listing_active = false\n",
    "        current_value = 0\n",
    "        \n",
    "        nbc = 0\n",
    "        X = Array{Float64}(undef, 0)\n",
    "        Y = Array{Float64}(undef, 0)\n",
    "        h = Array{Float64}(undef, 0)\n",
    "        L = Array{Float64}(undef, 0)\n",
    "        L0 = Array{Float64}(undef, 0)\n",
    "        d = Array{Array{Float64}}(undef, 0)\n",
    "        \n",
    "        for (i, line) in enumerate(eachline(f))\n",
    "            x = split(line, \" \")\n",
    "            deleteat!(x, findall(e->e==\"\", x))\n",
    "            current_item = x[1]\n",
    "            \n",
    "            if(current_item == \"0\" || listing_active) # Liste de clients / demandes\n",
    "                listing_active = true\n",
    "                if(current_item == \"d\")\n",
    "                    demands = true\n",
    "                elseif(demands) # Enregistrement des demandes\n",
    "                    push!(d, parse.(Float64, x))\n",
    "                else # enregistrement des clients\n",
    "                    nbc += 1\n",
    "                    push!(X, parse(Float64, x[2]))\n",
    "                    push!(Y, parse(Float64, x[3]))\n",
    "                    push!(h, parse(Float64, x[6]))\n",
    "                    push!(L, parse(Float64, x[8]))\n",
    "                    push!(L0, parse(Float64, x[10]))\n",
    "                end\n",
    "            else # variables générales du problème\n",
    "                try\n",
    "                    current_value = parse(Int64, x[2])\n",
    "                catch err\n",
    "                    current_value = 1^10\n",
    "                end\n",
    "                hashmap[current_item] = current_value\n",
    "            end\n",
    "        end\n",
    "        C = Clients(nbc, X, Y, h, L, L0, d)\n",
    "        hashmap[\"Clients\"] = C\n",
    "    end \n",
    "    return hashmap\n",
    "end"
   ]
  },
  {
   "cell_type": "code",
   "execution_count": 6,
   "id": "ae6cb1a7",
   "metadata": {},
   "outputs": [
    {
     "data": {
      "text/plain": [
       "Dict{Any, Any} with 9 entries:\n",
       "  \"f\"       => 3000\n",
       "  \"Q\"       => 322\n",
       "  \"C\"       => 1\n",
       "  \"k\"       => 2085\n",
       "  \"Type\"    => 1\n",
       "  \"u\"       => 30\n",
       "  \"l\"       => 6\n",
       "  \"Clients\" => Clients(15, [143.0, 89.0, 76.0, 285.0, 401.0, 16.0, 267.0, 249.0…\n",
       "  \"n\"       => 14"
      ]
     },
     "execution_count": 6,
     "metadata": {},
     "output_type": "execute_result"
    }
   ],
   "source": [
    "h = Read_PRP_instance(\"./PRP_instances/A_014_#ABS1_15_1.prp\")"
   ]
  },
  {
   "cell_type": "code",
   "execution_count": 7,
   "id": "27b312b0",
   "metadata": {},
   "outputs": [
    {
     "data": {
      "text/plain": [
       "6.0"
      ]
     },
     "execution_count": 7,
     "metadata": {},
     "output_type": "execute_result"
    }
   ],
   "source": [
    "h[\"Clients\"].h[14]"
   ]
  },
  {
   "cell_type": "code",
   "execution_count": 8,
   "id": "0875d779",
   "metadata": {},
   "outputs": [
    {
     "data": {
      "text/plain": [
       "dist (generic function with 1 method)"
      ]
     },
     "execution_count": 8,
     "metadata": {},
     "output_type": "execute_result"
    }
   ],
   "source": [
    "function dist(C, i, j, t, mc)\n",
    "    if(t == 1)\n",
    "        return ((C.X[i] - C.X[j])^2 + (C.Y[i] - C.Y[j])^2)^(0.5) + 0.5\n",
    "    else\n",
    "        return ((C.X[i] - C.X[j])^2 + (C.Y[i] - C.Y[j])^2)^(0.5) * mc\n",
    "    end\n",
    "end"
   ]
  },
  {
   "cell_type": "code",
   "execution_count": 9,
   "id": "53c31e94",
   "metadata": {},
   "outputs": [
    {
     "data": {
      "text/plain": [
       "calcul_dist (generic function with 1 method)"
      ]
     },
     "execution_count": 9,
     "metadata": {},
     "output_type": "execute_result"
    }
   ],
   "source": [
    "function calcul_dist(p)\n",
    "    if(p[\"Type\"] == 1)\n",
    "        mc = 0\n",
    "    else\n",
    "        mc = p[\"mc\"]\n",
    "    end\n",
    "    c = Array{Float64}(undef, (p[\"n\"]+1, p[\"n\"]+1))\n",
    "    for i in 1:p[\"n\"]+1\n",
    "        for j in 1:p[\"n\"]+1            \n",
    "            c[i, j] = dist(p[\"Clients\"], i, j, p[\"Type\"], mc)\n",
    "        end\n",
    "    end\n",
    "    return c\n",
    "end"
   ]
  },
  {
   "cell_type": "code",
   "execution_count": 10,
   "id": "3cd16ee6",
   "metadata": {},
   "outputs": [
    {
     "data": {
      "text/plain": [
       "3.0"
      ]
     },
     "execution_count": 10,
     "metadata": {},
     "output_type": "execute_result"
    }
   ],
   "source": [
    "sum(h[\"Clients\"].h[i] for i in 1:1)"
   ]
  },
  {
   "cell_type": "code",
   "execution_count": 22,
   "id": "a800bfbb",
   "metadata": {},
   "outputs": [
    {
     "data": {
      "text/plain": [
       "Resolve_LSP (generic function with 1 method)"
      ]
     },
     "execution_count": 22,
     "metadata": {},
     "output_type": "execute_result"
    }
   ],
   "source": [
    "function Resolve_LSP(p)\n",
    "    LP = Model(CPLEX.Optimizer)\n",
    "    LP = Model()\n",
    "    \n",
    "    c = calcul_dist(p)\n",
    "    \n",
    "    n = p[\"Clients\"].nb_clients\n",
    "    L0 = p[\"Clients\"].L0\n",
    "    L = p[\"Clients\"].L\n",
    "    l = p[\"l\"]+1\n",
    "    M = 10000\n",
    "    \n",
    "    @variable(LP, y[1:l], Bin)  # Production démarrée\n",
    "    @variable(LP, prod[1:l], Bin)  # Quantité produite\n",
    "    @variable(LP, inv[1:n, 1:l], Int)  # Inventaire des clients\n",
    "    @variable(LP, x[1:n, 1:n, 1:l], Bin)  # Camion entre i et j au temps t\n",
    "    @variable(LP, q[1:n, 1:l], Int)\n",
    "\n",
    "    @objective(LP, Min, sum(p[\"u\"]*prod[t] + p[\"f\"]*y[t] + sum(p[\"Clients\"].h[i]*inv[i, t] for i in 1:n) + sum(sum(c[i, j] * x[i, j, t] for i in 1:n) for j in 1:n) for t in 1:l))\n",
    "    \n",
    "    for t in 1:l\n",
    "        if(t ≠ 1)\n",
    "            @constraint(LP, inv[1, t-1] + prod[t] == sum(q[i, t] for i in 1:n) + inv[1, t]) # (1) OK\n",
    "            @constraint(LP,inv[1, t-1] <= L0) #(4)\n",
    "        end\n",
    "        for i in 1:n\n",
    "            if(i ≠ 1 && t ≠ 1)\n",
    "                @constraint(LP, inv[i, t-1] + q[i, t] == p[\"Clients\"].d[i-1][t] + inv[i, t]) # (2) OK\n",
    "                @constraint(LP, inv[i, t-1] + q[i, t] <= L[i]) # (5)\n",
    "            end\n",
    "            \n",
    "        end\n",
    "        @constraint(LP,prod[t] <= M*y[t]) # (3) M est une variable arbitrairement grande\n",
    "        \n",
    "        # ...\n",
    "        \n",
    "    end\n",
    "    \n",
    "    # print(LP)\n",
    "    println()\n",
    "\n",
    "    #optimize!(LP)\n",
    "   \n",
    "    #println(solution_summary(LP, verbose=true))\n",
    "    \n",
    "    return 0\n",
    "end"
   ]
  },
  {
   "cell_type": "code",
   "execution_count": 20,
   "id": "a2b85d9b",
   "metadata": {},
   "outputs": [
    {
     "name": "stdout",
     "output_type": "stream",
     "text": [
      "\n"
     ]
    },
    {
     "data": {
      "text/plain": [
       "0"
      ]
     },
     "execution_count": 20,
     "metadata": {},
     "output_type": "execute_result"
    }
   ],
   "source": [
    "Resolve_LSP(Read_PRP_instance(\"./PRP_instances/A_014_#ABS1_15_1.prp\"))"
   ]
  },
  {
   "cell_type": "code",
   "execution_count": 21,
   "id": "879a730d",
   "metadata": {},
   "outputs": [
    {
     "name": "stdout",
     "output_type": "stream",
     "text": [
      "\n"
     ]
    },
    {
     "data": {
      "text/plain": [
       "0"
      ]
     },
     "execution_count": 21,
     "metadata": {},
     "output_type": "execute_result"
    }
   ],
   "source": [
    "Resolve_LSP(Read_PRP_instance(\"./PRP_instances/B_100_instance17.prp\"))"
   ]
  },
  {
   "cell_type": "code",
   "execution_count": 69,
   "id": "128f6b6b",
   "metadata": {},
   "outputs": [
    {
     "data": {
      "text/plain": [
       "Dict{Any, Any} with 10 entries:\n",
       "  \"Clients\" => Clients(101, [0.0, 72.0, 58.0, 50.0, 78.0, 36.0, 66.0, 66.0, 16.…\n",
       "  \"f\"       => 70000\n",
       "  \"Q\"       => 8000\n",
       "  \"C\"       => 120000\n",
       "  \"k\"       => 9\n",
       "  \"Type\"    => 2\n",
       "  \"u\"       => 0\n",
       "  \"l\"       => 20\n",
       "  \"mc\"      => 15\n",
       "  \"n\"       => 100"
      ]
     },
     "execution_count": 69,
     "metadata": {},
     "output_type": "execute_result"
    }
   ],
   "source": [
    "Read_PRP_instance(\"./PRP_instances/B_100_instance17.prp\")"
   ]
  }
 ],
 "metadata": {
  "kernelspec": {
   "display_name": "Julia 1.8.2",
   "language": "julia",
   "name": "julia-1.8"
  },
  "language_info": {
   "file_extension": ".jl",
   "mimetype": "application/julia",
   "name": "julia",
   "version": "1.8.2"
  }
 },
 "nbformat": 4,
 "nbformat_minor": 5
}
