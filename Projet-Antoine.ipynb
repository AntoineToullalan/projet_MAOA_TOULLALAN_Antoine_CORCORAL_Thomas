{
 "cells": [
  {
   "cell_type": "code",
   "execution_count": 1,
   "id": "e0f950db",
   "metadata": {},
   "outputs": [
    {
     "name": "stderr",
     "output_type": "stream",
     "text": [
      "┌ Warning: could not download https://pkg.julialang.org/registries\n",
      "│   exception = Downloads.RequestError(\"https://pkg.julialang.org/registries\", 6, \"Could not resolve host: pkg.julialang.org\", Downloads.Response(nothing, \"https://pkg.julialang.org/registries\", 0, \"\", Pair{String, String}[]))\n",
      "└ @ Pkg.Registry /Users/julia/.julia/scratchspaces/a66863c6-20e8-4ff4-8a62-49f30b1f605e/agent-cache/default-macmini-x64-6.0/build/default-macmini-x64-6-0/julialang/julia-release-1-dot-8/usr/share/julia/stdlib/v1.8/Pkg/src/Registry/Registry.jl:68\n",
      "\u001b[32m\u001b[1m    Updating\u001b[22m\u001b[39m registry at `~/.julia/registries/General.toml`\n",
      "\u001b[32m\u001b[1m   Resolving\u001b[22m\u001b[39m package versions...\n",
      "\u001b[32m\u001b[1m  No Changes\u001b[22m\u001b[39m to `~/.julia/environments/v1.8/Project.toml`\n",
      "\u001b[32m\u001b[1m  No Changes\u001b[22m\u001b[39m to `~/.julia/environments/v1.8/Manifest.toml`\n",
      "\u001b[32m\u001b[1m   Resolving\u001b[22m\u001b[39m package versions...\n",
      "\u001b[32m\u001b[1m  No Changes\u001b[22m\u001b[39m to `~/.julia/environments/v1.8/Project.toml`\n",
      "\u001b[32m\u001b[1m  No Changes\u001b[22m\u001b[39m to `~/.julia/environments/v1.8/Manifest.toml`\n",
      "\u001b[32m\u001b[1m   Resolving\u001b[22m\u001b[39m package versions...\n",
      "\u001b[32m\u001b[1m  No Changes\u001b[22m\u001b[39m to `~/.julia/environments/v1.8/Project.toml`\n",
      "\u001b[32m\u001b[1m  No Changes\u001b[22m\u001b[39m to `~/.julia/environments/v1.8/Manifest.toml`\n"
     ]
    }
   ],
   "source": [
    "import Pkg;\n",
    "Pkg.add(\"JuMP\")\n",
    "Pkg.add(\"HiGHS\")\n",
    "Pkg.add(\"Graphs\")"
   ]
  },
  {
   "cell_type": "code",
   "execution_count": 2,
   "id": "bcb47c2f",
   "metadata": {},
   "outputs": [],
   "source": [
    "using JuMP\n",
    "using HiGHS\n",
    "using Graphs"
   ]
  },
  {
   "cell_type": "code",
   "execution_count": 5,
   "id": "dea21557",
   "metadata": {},
   "outputs": [],
   "source": [
    "struct Clients\n",
    "    nb_clients\n",
    "    X\n",
    "    Y\n",
    "    h\n",
    "    L\n",
    "    L0\n",
    "    d\n",
    "end"
   ]
  },
  {
   "cell_type": "code",
   "execution_count": 3,
   "id": "2de5666f",
   "metadata": {},
   "outputs": [
    {
     "data": {
      "text/plain": [
       "Read_PRP_instance (generic function with 1 method)"
      ]
     },
     "execution_count": 3,
     "metadata": {},
     "output_type": "execute_result"
    }
   ],
   "source": [
    "function Read_PRP_instance(filename)\n",
    "    hashmap = Dict()\n",
    "    open(filename) do f\n",
    "        \n",
    "        demands = false\n",
    "        listing_active = false\n",
    "        current_value = 0\n",
    "        \n",
    "        nbc = 0\n",
    "        X = Array{Float64}(undef, 0)\n",
    "        Y = Array{Float64}(undef, 0)\n",
    "        h = Array{Float64}(undef, 0)\n",
    "        L = Array{Float64}(undef, 0)\n",
    "        L0 = Array{Float64}(undef, 0)\n",
    "        d = Array{Array{Float64}}(undef, 0)\n",
    "        \n",
    "        for (i, line) in enumerate(eachline(f))\n",
    "            x = split(line, \" \")\n",
    "            deleteat!(x, findall(e->e==\"\", x))\n",
    "            current_item = x[1]\n",
    "            \n",
    "            if(current_item == \"0\" || listing_active) # Liste de clients / demandes\n",
    "                listing_active = true\n",
    "                if(current_item == \"d\")\n",
    "                    demands = true\n",
    "                elseif(demands) # Enregistrement des demandes\n",
    "                    push!(d, parse.(Float64, x))\n",
    "                else # enregistrement des clients\n",
    "                    nbc += 1\n",
    "                    push!(X, parse(Float64, x[2]))\n",
    "                    push!(Y, parse(Float64, x[3]))\n",
    "                    push!(h, parse(Float64, x[6]))\n",
    "                    push!(L, parse(Float64, x[8]))\n",
    "                    push!(L0, parse(Float64, x[10]))\n",
    "                end\n",
    "            else # variables générales du problème\n",
    "                try\n",
    "                    current_value = parse(Int64, x[2])\n",
    "                catch err\n",
    "                    current_value = 1^10\n",
    "                end\n",
    "                hashmap[current_item] = current_value\n",
    "            end\n",
    "        end\n",
    "        C = Clients(nbc, X, Y, h, L, L0, d)\n",
    "        hashmap[\"Clients\"] = C\n",
    "    end \n",
    "    return hashmap\n",
    "end"
   ]
  },
  {
   "cell_type": "code",
   "execution_count": 6,
   "id": "ae6cb1a7",
   "metadata": {},
   "outputs": [
    {
     "data": {
      "text/plain": [
       "Dict{Any, Any} with 9 entries:\n",
       "  \"f\"       => 3000\n",
       "  \"Q\"       => 322\n",
       "  \"C\"       => 1\n",
       "  \"k\"       => 2085\n",
       "  \"Type\"    => 1\n",
       "  \"u\"       => 30\n",
       "  \"l\"       => 6\n",
       "  \"Clients\" => Clients(15, [143.0, 89.0, 76.0, 285.0, 401.0, 16.0, 267.0, 249.0…\n",
       "  \"n\"       => 14"
      ]
     },
     "execution_count": 6,
     "metadata": {},
     "output_type": "execute_result"
    }
   ],
   "source": [
    "h = Read_PRP_instance(\"./PRP_instances/A_014_#ABS1_15_1.prp\")"
   ]
  },
  {
   "cell_type": "code",
   "execution_count": 62,
   "id": "27b312b0",
   "metadata": {},
   "outputs": [
    {
     "data": {
      "text/plain": [
       "14-element Vector{Array{Float64}}:\n",
       " [1.0, 10.0, 10.0, 10.0, 10.0, 10.0, 10.0]\n",
       " [2.0, 15.0, 15.0, 15.0, 15.0, 15.0, 15.0]\n",
       " [3.0, 15.0, 15.0, 15.0, 15.0, 15.0, 15.0]\n",
       " [4.0, 7.0, 7.0, 7.0, 7.0, 7.0, 7.0]\n",
       " [5.0, 13.0, 13.0, 13.0, 13.0, 13.0, 13.0]\n",
       " [6.0, 16.0, 16.0, 16.0, 16.0, 16.0, 16.0]\n",
       " [7.0, 22.0, 22.0, 22.0, 22.0, 22.0, 22.0]\n",
       " [8.0, 13.0, 13.0, 13.0, 13.0, 13.0, 13.0]\n",
       " [9.0, 19.0, 19.0, 19.0, 19.0, 19.0, 19.0]\n",
       " [10.0, 22.0, 22.0, 22.0, 22.0, 22.0, 22.0]\n",
       " [11.0, 19.0, 19.0, 19.0, 19.0, 19.0, 19.0]\n",
       " [12.0, 21.0, 21.0, 21.0, 21.0, 21.0, 21.0]\n",
       " [13.0, 19.0, 19.0, 19.0, 19.0, 19.0, 19.0]\n",
       " [14.0, 19.0, 19.0, 19.0, 19.0, 19.0, 19.0]"
      ]
     },
     "execution_count": 62,
     "metadata": {},
     "output_type": "execute_result"
    }
   ],
   "source": [
    "h[\"Clients\"].d"
   ]
  },
  {
   "cell_type": "code",
   "execution_count": 8,
   "id": "0875d779",
   "metadata": {},
   "outputs": [
    {
     "data": {
      "text/plain": [
       "dist (generic function with 1 method)"
      ]
     },
     "execution_count": 8,
     "metadata": {},
     "output_type": "execute_result"
    }
   ],
   "source": [
    "function dist(C, i, j, t, mc)\n",
    "    if(t == 1)\n",
    "        return ((C.X[i] - C.X[j])^2 + (C.Y[i] - C.Y[j])^2)^(0.5) + 0.5\n",
    "    else\n",
    "        return ((C.X[i] - C.X[j])^2 + (C.Y[i] - C.Y[j])^2)^(0.5) * mc\n",
    "    end\n",
    "end"
   ]
  },
  {
   "cell_type": "code",
   "execution_count": 9,
   "id": "53c31e94",
   "metadata": {},
   "outputs": [
    {
     "data": {
      "text/plain": [
       "calcul_dist (generic function with 1 method)"
      ]
     },
     "execution_count": 9,
     "metadata": {},
     "output_type": "execute_result"
    }
   ],
   "source": [
    "function calcul_dist(p)\n",
    "    if(p[\"Type\"] == 1)\n",
    "        mc = 0\n",
    "    else\n",
    "        mc = p[\"mc\"]\n",
    "    end\n",
    "    c = Array{Float64}(undef, (p[\"n\"]+1, p[\"n\"]+1))\n",
    "    for i in 1:p[\"n\"]+1\n",
    "        for j in 1:p[\"n\"]+1            \n",
    "            c[i, j] = dist(p[\"Clients\"], i, j, p[\"Type\"], mc)\n",
    "        end\n",
    "    end\n",
    "    return c\n",
    "end"
   ]
  },
  {
   "cell_type": "code",
   "execution_count": 10,
   "id": "293fdb5c",
   "metadata": {},
   "outputs": [
    {
     "data": {
      "text/plain": [
       "init_SC (generic function with 1 method)"
      ]
     },
     "execution_count": 10,
     "metadata": {},
     "output_type": "execute_result"
    }
   ],
   "source": [
    "function init_SC(c,n,l)\n",
    "    SC = Array{Array{Float64}}(undef, (n,l))\n",
    "    for i in 1:n+1\n",
    "        for t in 1:l+1            \n",
    "            SC[i, t] = c[1,i] + c[i,1] \n",
    "        end\n",
    "    end\n",
    "    return SC\n",
    "end"
   ]
  },
  {
   "cell_type": "code",
   "execution_count": 11,
   "id": "3cd16ee6",
   "metadata": {},
   "outputs": [
    {
     "data": {
      "text/plain": [
       "3.0"
      ]
     },
     "execution_count": 11,
     "metadata": {},
     "output_type": "execute_result"
    }
   ],
   "source": [
    "sum(h[\"Clients\"].h[i] for i in 1:1)"
   ]
  },
  {
   "cell_type": "code",
   "execution_count": 12,
   "id": "a800bfbb",
   "metadata": {},
   "outputs": [
    {
     "data": {
      "text/plain": [
       "Resolve_LSP (generic function with 1 method)"
      ]
     },
     "execution_count": 12,
     "metadata": {},
     "output_type": "execute_result"
    }
   ],
   "source": [
    "function Resolve_LSP(p)\n",
    "    LP = Model(HiGHS.Optimizer)\n",
    "    \n",
    "    c = calcul_dist(p)    \n",
    "    n = p[\"Clients\"].nb_clients\n",
    "    L0 = p[\"Clients\"].L0\n",
    "    L = p[\"Clients\"].L\n",
    "    l = p[\"l\"]+1\n",
    "    M = 10000\n",
    "    SC = init_SC(c,n,l)\n",
    "\n",
    "    \n",
    "    @variable(LP, y[1:l], Bin)  # Production démarrée\n",
    "    @variable(LP, prod[1:l], Bin)  # Quantité produite\n",
    "    @variable(LP, inv[1:n, 1:l], Int)  # Inventaire des clients\n",
    "    @variable(LP, x[1:n, 1:n, 1:l], Bin)  # Camion entre i et j au temps t\n",
    "    @variable(LP, q[1:n, 1:l], Int)\n",
    "    @variable(LP, z[1:n, 1:l], Bin)  # zit vaut 1 si le client i est visité à la période t\n",
    "\n",
    "    \n",
    "    @objective(LP, Min, sum(p[\"u\"]*prod[t] + p[\"f\"]*y[t] + \n",
    "            sum(p[\"Clients\"].h[i]*inv[i, t] for i in 1:n) + \n",
    "            sum(sum(c[i, j] * x[i, j, t] for i in 1:n) for j in 1:n) for t in 1:l) + \n",
    "            sum(sum(SC[i,t] * z[i,t] for i in 1:n) for t in 1:l)) \n",
    "    \n",
    "    for t in 1:l\n",
    "        if(t ≠ 1)\n",
    "            @constraint(LP, inv[1, t-1] + prod[t] == sum(q[i, t] for i in 1:n) + inv[1, t]) # (1) OK\n",
    "            @constraint(LP,inv[1, t-1] <= L0) #(4)\n",
    "        end\n",
    "        for i in 1:n\n",
    "            if(i ≠ 1 && t ≠ 1)\n",
    "                @constraint(LP, inv[i, t-1] + q[i, t] == p[\"Clients\"].d[i-1][t] + inv[i, t]) # (2) OK\n",
    "                @constraint(LP, inv[i, t-1] + q[i, t] <= L[i]) # (5)\n",
    "                \n",
    "                @constraint(LP,sum(x[i,j,t] for j in 2:n) == z[i,t]) # (1 bis) un arc vers i est emprunté au moins une fois au temps t si un véhicule visite i au temps t\n",
    "                @constraint(LP,sum(x[i,j,t] for j in 2:n) + sum(x[j,i,t] for j in 2:n) == 2 * z[i,t]) # (2 bis) conservation de flot des véhicules\n",
    "                @constraint(LP,q[i,t] <= M*z[i,t]) # (3 bis) la quantité livrée en t est positive si i a été livrée en t\n",
    "            end\n",
    "            \n",
    "        end\n",
    "        @constraint(LP,prod[t] <= M*y[t]) # (3) M est une variable arbitrairement grande\n",
    "        \n",
    "    end\n",
    "    for i in 1:n\n",
    "            if(i ≠ 1)\n",
    "                @constraint(LP, sum(z[i, t] for t in 2:l) >= 1) #on visite un client au moins une fois\n",
    "            end\n",
    "        end\n",
    "    \n",
    "    # print(LP)\n",
    "    println()\n",
    "\n",
    "    #optimize!(LP)\n",
    "   \n",
    "    #println(solution_summary(LP, verbose=true))\n",
    "    \n",
    "    return 0\n",
    "end"
   ]
  },
  {
   "cell_type": "code",
   "execution_count": 13,
   "id": "a2b85d9b",
   "metadata": {},
   "outputs": [
    {
     "ename": "LoadError",
     "evalue": "MethodError: \u001b[0mCannot `convert` an object of type \n\u001b[0m  \u001b[92mFloat64\u001b[39m\u001b[0m to an object of type \n\u001b[0m  \u001b[91mArray{Float64}\u001b[39m\n\u001b[0mClosest candidates are:\n\u001b[0m  convert(::Type{T}, \u001b[91m::LinearAlgebra.Factorization\u001b[39m) where T<:AbstractArray at /Applications/Julia-1.8.app/Contents/Resources/julia/share/julia/stdlib/v1.8/LinearAlgebra/src/factorization.jl:58\n\u001b[0m  convert(::Type{Array{T}}, \u001b[91m::StaticArraysCore.SizedArray{S, T, N, M, Array{T, M}}\u001b[39m) where {S, T, N, M} at ~/.julia/packages/StaticArrays/PUoe1/src/SizedArray.jl:79\n\u001b[0m  convert(::Type{Array{T}}, \u001b[91m::StaticArraysCore.SizedArray{S, T, N, M, TData} where {N, M, TData<:AbstractArray{T, M}}\u001b[39m) where {T, S} at ~/.julia/packages/StaticArrays/PUoe1/src/SizedArray.jl:76\n\u001b[0m  ...",
     "output_type": "error",
     "traceback": [
      "MethodError: \u001b[0mCannot `convert` an object of type \n\u001b[0m  \u001b[92mFloat64\u001b[39m\u001b[0m to an object of type \n\u001b[0m  \u001b[91mArray{Float64}\u001b[39m\n\u001b[0mClosest candidates are:\n\u001b[0m  convert(::Type{T}, \u001b[91m::LinearAlgebra.Factorization\u001b[39m) where T<:AbstractArray at /Applications/Julia-1.8.app/Contents/Resources/julia/share/julia/stdlib/v1.8/LinearAlgebra/src/factorization.jl:58\n\u001b[0m  convert(::Type{Array{T}}, \u001b[91m::StaticArraysCore.SizedArray{S, T, N, M, Array{T, M}}\u001b[39m) where {S, T, N, M} at ~/.julia/packages/StaticArrays/PUoe1/src/SizedArray.jl:79\n\u001b[0m  convert(::Type{Array{T}}, \u001b[91m::StaticArraysCore.SizedArray{S, T, N, M, TData} where {N, M, TData<:AbstractArray{T, M}}\u001b[39m) where {T, S} at ~/.julia/packages/StaticArrays/PUoe1/src/SizedArray.jl:76\n\u001b[0m  ...",
      "",
      "Stacktrace:",
      " [1] setindex!",
      "   @ ./array.jl:968 [inlined]",
      " [2] init_SC(c::Matrix{Float64}, n::Int64, l::Int64)",
      "   @ Main ./In[10]:5",
      " [3] Resolve_LSP(p::Dict{Any, Any})",
      "   @ Main ./In[12]:10",
      " [4] top-level scope",
      "   @ In[13]:1",
      " [5] eval",
      "   @ ./boot.jl:368 [inlined]",
      " [6] include_string(mapexpr::typeof(REPL.softscope), mod::Module, code::String, filename::String)",
      "   @ Base ./loading.jl:1428"
     ]
    }
   ],
   "source": [
    "Resolve_LSP(Read_PRP_instance(\"./PRP_instances/A_014_#ABS1_15_1.prp\"))"
   ]
  },
  {
   "cell_type": "code",
   "execution_count": 14,
   "id": "879a730d",
   "metadata": {},
   "outputs": [
    {
     "ename": "LoadError",
     "evalue": "MethodError: \u001b[0mCannot `convert` an object of type \n\u001b[0m  \u001b[92mFloat64\u001b[39m\u001b[0m to an object of type \n\u001b[0m  \u001b[91mArray{Float64}\u001b[39m\n\u001b[0mClosest candidates are:\n\u001b[0m  convert(::Type{T}, \u001b[91m::LinearAlgebra.Factorization\u001b[39m) where T<:AbstractArray at /Applications/Julia-1.8.app/Contents/Resources/julia/share/julia/stdlib/v1.8/LinearAlgebra/src/factorization.jl:58\n\u001b[0m  convert(::Type{Array{T}}, \u001b[91m::StaticArraysCore.SizedArray{S, T, N, M, Array{T, M}}\u001b[39m) where {S, T, N, M} at ~/.julia/packages/StaticArrays/PUoe1/src/SizedArray.jl:79\n\u001b[0m  convert(::Type{Array{T}}, \u001b[91m::StaticArraysCore.SizedArray{S, T, N, M, TData} where {N, M, TData<:AbstractArray{T, M}}\u001b[39m) where {T, S} at ~/.julia/packages/StaticArrays/PUoe1/src/SizedArray.jl:76\n\u001b[0m  ...",
     "output_type": "error",
     "traceback": [
      "MethodError: \u001b[0mCannot `convert` an object of type \n\u001b[0m  \u001b[92mFloat64\u001b[39m\u001b[0m to an object of type \n\u001b[0m  \u001b[91mArray{Float64}\u001b[39m\n\u001b[0mClosest candidates are:\n\u001b[0m  convert(::Type{T}, \u001b[91m::LinearAlgebra.Factorization\u001b[39m) where T<:AbstractArray at /Applications/Julia-1.8.app/Contents/Resources/julia/share/julia/stdlib/v1.8/LinearAlgebra/src/factorization.jl:58\n\u001b[0m  convert(::Type{Array{T}}, \u001b[91m::StaticArraysCore.SizedArray{S, T, N, M, Array{T, M}}\u001b[39m) where {S, T, N, M} at ~/.julia/packages/StaticArrays/PUoe1/src/SizedArray.jl:79\n\u001b[0m  convert(::Type{Array{T}}, \u001b[91m::StaticArraysCore.SizedArray{S, T, N, M, TData} where {N, M, TData<:AbstractArray{T, M}}\u001b[39m) where {T, S} at ~/.julia/packages/StaticArrays/PUoe1/src/SizedArray.jl:76\n\u001b[0m  ...",
      "",
      "Stacktrace:",
      " [1] setindex!",
      "   @ ./array.jl:968 [inlined]",
      " [2] init_SC(c::Matrix{Float64}, n::Int64, l::Int64)",
      "   @ Main ./In[10]:5",
      " [3] Resolve_LSP(p::Dict{Any, Any})",
      "   @ Main ./In[12]:10",
      " [4] top-level scope",
      "   @ In[14]:1",
      " [5] eval",
      "   @ ./boot.jl:368 [inlined]",
      " [6] include_string(mapexpr::typeof(REPL.softscope), mod::Module, code::String, filename::String)",
      "   @ Base ./loading.jl:1428"
     ]
    }
   ],
   "source": [
    "Resolve_LSP(Read_PRP_instance(\"./PRP_instances/B_100_instance17.prp\"))"
   ]
  },
  {
   "cell_type": "code",
   "execution_count": null,
   "id": "128f6b6b",
   "metadata": {},
   "outputs": [],
   "source": [
    "Read_PRP_instance(\"./PRP_instances/B_100_instance17.prp\")"
   ]
  },
  {
   "cell_type": "code",
   "execution_count": 80,
   "id": "d34c70ab",
   "metadata": {},
   "outputs": [
    {
     "data": {
      "text/plain": [
       "clark_wright (generic function with 2 methods)"
      ]
     },
     "execution_count": 80,
     "metadata": {},
     "output_type": "execute_result"
    }
   ],
   "source": [
    "function clark_wright(params,demands,costs,t)\n",
    "\n",
    "    n = params[\"n\"] #n est le nombre de clients\n",
    "    Q = params[\"Q\"] #Q est la capacité des camions\n",
    "\n",
    "\n",
    "    #Initialiser S\n",
    "    S = [[0, i] for i in 1:n]\n",
    "    whereIs = Dict(i => circuit for (i, circuit) in enumerate(S))\n",
    "\n",
    "    #Calcul des s_{i,j} et mettre dans l'ordre décroissant\n",
    "    s=[]\n",
    "    for i in 1:n, j in 1:n\n",
    "        if i != j\n",
    "            push!(s, [ (i,j), costs[1, i+1] + costs[1, j+1] - costs[i+1, j+1] ]) # pb indices\n",
    "        end\n",
    "    end\n",
    "    sort!(s, by = x->x[2], rev=true) #by = key pour sort, rev = reverse (ordre décroissant)\n",
    "\n",
    "    #Construction des circuits (attention il peut en avoir plus de m (le nombre de camion disponible))\n",
    "    for k in 1:length(s)\n",
    "\n",
    "        i=s[k][1][1]\n",
    "        j=s[k][1][2]\n",
    "\n",
    "        circuit_i = whereIs[i]\n",
    "        circuit_j = whereIs[j]\n",
    "\n",
    "        #Si i et j ne sont pas dans le même circuit\n",
    "        if circuit_j != circuit_i\n",
    "\n",
    "            index_circuit_i = findfirst(item -> item == circuit_i, S)\n",
    "            index_circuit_j = findfirst(item -> item == circuit_j, S)\n",
    "\n",
    "            circuit_union = union(S[index_circuit_i], S[index_circuit_j])\n",
    "\n",
    "            #Calcul demande du nouveau circuit circuit_union\n",
    "            demandeUnion=0\n",
    "            for l in circuit_union[2:end] #commence à 2 car le premier noeud du circuit est 0 (le dépot n'a pas de demande)\n",
    "                demandeUnion += demands[l][t]\n",
    "            end\n",
    "            \n",
    "            #Si la demande du nouveau circuit n'est pas trop pour un seul camion\n",
    "            if demandeUnion <= Q\n",
    "                deleteat!(S, sort!([index_circuit_i, index_circuit_j]))\n",
    "\n",
    "                push!(S, circuit_union)\n",
    "\n",
    "\n",
    "                for index in circuit_union\n",
    "                    push!(whereIs, index=>circuit_union)\n",
    "                end\n",
    "\n",
    "            end\n",
    "        end\n",
    "\n",
    "    end\n",
    "\n",
    "    return S #la liste des circuits qui sont des tournées valides (qui respectent la contrainte de poids)\n",
    "end"
   ]
  },
  {
   "cell_type": "code",
   "execution_count": 81,
   "id": "9b6660e9",
   "metadata": {},
   "outputs": [
    {
     "data": {
      "text/plain": [
       "3-element Vector{Vector{Int64}}:\n",
       " [0, 1, 4, 14, 2, 7, 13]\n",
       " [0, 3, 6, 10, 12, 11]\n",
       " [0, 8, 5, 9]"
      ]
     },
     "execution_count": 81,
     "metadata": {},
     "output_type": "execute_result"
    }
   ],
   "source": [
    "costs = calcul_dist(Read_PRP_instance(\"./PRP_instances/B_100_instance17.prp\"))\n",
    "demands = h[\"Clients\"].d\n",
    "clark_wright(h,demands,costs,6)"
   ]
  },
  {
   "cell_type": "code",
   "execution_count": null,
   "id": "8b47497c",
   "metadata": {},
   "outputs": [],
   "source": []
  }
 ],
 "metadata": {
  "kernelspec": {
   "display_name": "Julia 1.8.2",
   "language": "julia",
   "name": "julia-1.8"
  },
  "language_info": {
   "file_extension": ".jl",
   "mimetype": "application/julia",
   "name": "julia",
   "version": "1.8.2"
  }
 },
 "nbformat": 4,
 "nbformat_minor": 5
}
