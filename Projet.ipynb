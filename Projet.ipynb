{
 "cells": [
  {
   "cell_type": "code",
   "execution_count": null,
   "id": "bcb47c2f",
   "metadata": {},
   "outputs": [],
   "source": []
  },
  {
   "cell_type": "code",
   "execution_count": 1,
   "id": "4f5ee05b",
   "metadata": {},
   "outputs": [],
   "source": [
    "struct Clients\n",
    "    nb_clients\n",
    "    X\n",
    "    Y\n",
    "    h\n",
    "    L\n",
    "    L0\n",
    "    d\n",
    "end"
   ]
  },
  {
   "cell_type": "code",
   "execution_count": 2,
   "id": "bb5e3aad",
   "metadata": {},
   "outputs": [
    {
     "data": {
      "text/plain": [
       "Read_PRP_instance (generic function with 1 method)"
      ]
     },
     "execution_count": 2,
     "metadata": {},
     "output_type": "execute_result"
    }
   ],
   "source": [
    "function Read_PRP_instance(filename)\n",
    "    hashmap = Dict()\n",
    "    open(filename) do f\n",
    "        \n",
    "        demands = false\n",
    "        listing_active = false\n",
    "        current_value = 0\n",
    "        \n",
    "        nbc = 0\n",
    "        X = Array{Float64}(undef, 0)\n",
    "        Y = Array{Float64}(undef, 0)\n",
    "        h = Array{Float64}(undef, 0)\n",
    "        L = Array{Float64}(undef, 0)\n",
    "        L0 = Array{Float64}(undef, 0)\n",
    "        d = Array{Array{Float64}}(undef, 0)\n",
    "        \n",
    "        for (i, line) in enumerate(eachline(f))\n",
    "            x = split(line, \" \")\n",
    "            deleteat!(x, findall(e->e==\"\", x))\n",
    "            current_item = x[1]\n",
    "            \n",
    "            if(current_item == \"0\" || listing_active) # Liste de clients / demandes\n",
    "                listing_active = true\n",
    "                if(current_item == \"d\")\n",
    "                    demands = true\n",
    "                elseif(demands) # Enregistrement des demandes\n",
    "                    push!(d, parse.(Float64, x))\n",
    "                else # enregistrement des clients\n",
    "                    nbc += 1\n",
    "                    push!(X, parse(Float64, x[2]))\n",
    "                    push!(Y, parse(Float64, x[3]))\n",
    "                    push!(h, parse(Float64, x[6]))\n",
    "                    push!(L, parse(Float64, x[8]))\n",
    "                    push!(L0, parse(Float64, x[10]))\n",
    "                end\n",
    "            else # variables générales du problème\n",
    "                try\n",
    "                    current_value = parse(Int64, x[2])\n",
    "                catch err\n",
    "                    current_value = 1^10\n",
    "                end\n",
    "                hashmap[current_item] = current_value\n",
    "            end\n",
    "        end\n",
    "        C = Clients(nbc, X, Y, h, L, L0, d)\n",
    "        hashmap[\"Clients\"] = C\n",
    "    end \n",
    "    return hashmap\n",
    "end"
   ]
  },
  {
   "cell_type": "code",
   "execution_count": 3,
   "id": "15f3d5d6",
   "metadata": {},
   "outputs": [
    {
     "data": {
      "text/plain": [
       "Dict{Any, Any} with 9 entries:\n",
       "  \"f\"       => 3000\n",
       "  \"Q\"       => 322\n",
       "  \"C\"       => 1\n",
       "  \"k\"       => 2085\n",
       "  \"Type\"    => 1\n",
       "  \"u\"       => 30\n",
       "  \"l\"       => 6\n",
       "  \"Clients\" => Clients(15, [143.0, 89.0, 76.0, 285.0, 401.0, 16.0, 267.0, 249.0…\n",
       "  \"n\"       => 14"
      ]
     },
     "execution_count": 3,
     "metadata": {},
     "output_type": "execute_result"
    }
   ],
   "source": [
    "h = Read_PRP_instance(\"./PRP_instances/A_014_#ABS1_15_1.prp\")"
   ]
  }
 ],
 "metadata": {
  "kernelspec": {
   "display_name": "Julia 1.8.2",
   "language": "julia",
   "name": "julia-1.8"
  },
  "language_info": {
   "file_extension": ".jl",
   "mimetype": "application/julia",
   "name": "julia",
   "version": "1.8.2"
  }
 },
 "nbformat": 4,
 "nbformat_minor": 5
}
