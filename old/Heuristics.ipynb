{
 "cells": [
  {
   "cell_type": "code",
   "execution_count": 54,
   "id": "8ddca112",
   "metadata": {
    "collapsed": true
   },
   "outputs": [
    {
     "name": "stderr",
     "output_type": "stream",
     "text": [
      "\u001b[32m\u001b[1m    Updating\u001b[22m\u001b[39m registry at `~/Documents/master/MAOA/julia-1.8.2/.julia_commun_a_tous/registries/General.toml`\n",
      "\u001b[32m\u001b[1m   Resolving\u001b[22m\u001b[39m package versions...\n",
      "\u001b[32m\u001b[1m   Installed\u001b[22m\u001b[39m Tables ────────────────────── v1.10.0\n",
      "\u001b[32m\u001b[1m   Installed\u001b[22m\u001b[39m DataValueInterfaces ───────── v1.0.0\n",
      "\u001b[32m\u001b[1m   Installed\u001b[22m\u001b[39m DataFrames ────────────────── v1.4.2\n",
      "\u001b[32m\u001b[1m   Installed\u001b[22m\u001b[39m Crayons ───────────────────── v4.1.1\n",
      "\u001b[32m\u001b[1m   Installed\u001b[22m\u001b[39m InvertedIndices ───────────── v1.2.0\n",
      "\u001b[32m\u001b[1m   Installed\u001b[22m\u001b[39m TableTraits ───────────────── v1.0.1\n",
      "\u001b[32m\u001b[1m   Installed\u001b[22m\u001b[39m PooledArrays ──────────────── v1.4.2\n",
      "\u001b[32m\u001b[1m   Installed\u001b[22m\u001b[39m PrettyTables ──────────────── v2.2.2\n",
      "\u001b[32m\u001b[1m   Installed\u001b[22m\u001b[39m IteratorInterfaceExtensions ─ v1.0.0\n",
      "\u001b[32m\u001b[1m   Installed\u001b[22m\u001b[39m StringManipulation ────────── v0.3.0\n",
      "\u001b[32m\u001b[1m    Updating\u001b[22m\u001b[39m `~/Documents/master/MAOA/julia-1.8.2/.julia_commun_a_tous/environments/v1.8/Project.toml`\n",
      "\u001b[32m⌃\u001b[39m\u001b[90m [a93c6f00] \u001b[39m\u001b[92m+ DataFrames v1.4.2\u001b[39m\n",
      "\u001b[32m\u001b[1m    Updating\u001b[22m\u001b[39m `~/Documents/master/MAOA/julia-1.8.2/.julia_commun_a_tous/environments/v1.8/Manifest.toml`\n",
      " \u001b[90m [a8cc5b0e] \u001b[39m\u001b[92m+ Crayons v4.1.1\u001b[39m\n",
      "\u001b[32m⌃\u001b[39m\u001b[90m [a93c6f00] \u001b[39m\u001b[92m+ DataFrames v1.4.2\u001b[39m\n",
      " \u001b[90m [e2d170a0] \u001b[39m\u001b[92m+ DataValueInterfaces v1.0.0\u001b[39m\n",
      " \u001b[90m [41ab1584] \u001b[39m\u001b[92m+ InvertedIndices v1.2.0\u001b[39m\n",
      " \u001b[90m [82899510] \u001b[39m\u001b[92m+ IteratorInterfaceExtensions v1.0.0\u001b[39m\n",
      " \u001b[90m [2dfb63ee] \u001b[39m\u001b[92m+ PooledArrays v1.4.2\u001b[39m\n",
      " \u001b[90m [08abe8d2] \u001b[39m\u001b[92m+ PrettyTables v2.2.2\u001b[39m\n",
      " \u001b[90m [892a3eda] \u001b[39m\u001b[92m+ StringManipulation v0.3.0\u001b[39m\n",
      " \u001b[90m [3783bdb8] \u001b[39m\u001b[92m+ TableTraits v1.0.1\u001b[39m\n",
      " \u001b[90m [bd369af6] \u001b[39m\u001b[92m+ Tables v1.10.0\u001b[39m\n",
      "\u001b[36m\u001b[1m        Info\u001b[22m\u001b[39m Packages marked with \u001b[32m⌃\u001b[39m have new versions available and may be upgradable.\n",
      "\u001b[32m\u001b[1mPrecompiling\u001b[22m\u001b[39m project...\n",
      "\u001b[32m  ✓ \u001b[39m\u001b[90mDataValueInterfaces\u001b[39m\n",
      "\u001b[32m  ✓ \u001b[39m\u001b[90mIteratorInterfaceExtensions\u001b[39m\n",
      "\u001b[32m  ✓ \u001b[39m\u001b[90mInvertedIndices\u001b[39m\n",
      "\u001b[32m  ✓ \u001b[39m\u001b[90mTableTraits\u001b[39m\n",
      "\u001b[32m  ✓ \u001b[39m\u001b[90mPooledArrays\u001b[39m\n",
      "\u001b[32m  ✓ \u001b[39m\u001b[90mCrayons\u001b[39m\n",
      "\u001b[32m  ✓ \u001b[39m\u001b[90mStringManipulation\u001b[39m\n",
      "\u001b[32m  ✓ \u001b[39m\u001b[90mTables\u001b[39m\n",
      "\u001b[32m  ✓ \u001b[39m\u001b[90mPrettyTables\u001b[39m\n",
      "\u001b[32m  ✓ \u001b[39mDataFrames\n",
      "  10 dependencies successfully precompiled in 26 seconds. 210 already precompiled. 1 skipped during auto due to previous errors.\n"
     ]
    }
   ],
   "source": [
    "using Pkg\n",
    "Pkg.add(\"DataFrames\")"
   ]
  },
  {
   "cell_type": "code",
   "execution_count": 55,
   "id": "69bfa4c2",
   "metadata": {
    "collapsed": true
   },
   "outputs": [
    {
     "name": "stderr",
     "output_type": "stream",
     "text": [
      "\u001b[32m\u001b[1m   Resolving\u001b[22m\u001b[39m package versions...\n",
      "\u001b[32m\u001b[1m   Installed\u001b[22m\u001b[39m InlineStrings ── v1.3.2\n",
      "\u001b[32m\u001b[1m   Installed\u001b[22m\u001b[39m WeakRefStrings ─ v1.4.2\n",
      "\u001b[32m\u001b[1m   Installed\u001b[22m\u001b[39m SentinelArrays ─ v1.3.16\n",
      "\u001b[32m\u001b[1m   Installed\u001b[22m\u001b[39m FilePathsBase ── v0.9.20\n",
      "\u001b[32m\u001b[1m   Installed\u001b[22m\u001b[39m CSV ──────────── v0.10.7\n",
      "\u001b[32m\u001b[1m    Updating\u001b[22m\u001b[39m `~/Documents/master/MAOA/julia-1.8.2/.julia_commun_a_tous/environments/v1.8/Project.toml`\n",
      " \u001b[90m [336ed68f] \u001b[39m\u001b[92m+ CSV v0.10.7\u001b[39m\n",
      "\u001b[32m\u001b[1m    Updating\u001b[22m\u001b[39m `~/Documents/master/MAOA/julia-1.8.2/.julia_commun_a_tous/environments/v1.8/Manifest.toml`\n",
      " \u001b[90m [336ed68f] \u001b[39m\u001b[92m+ CSV v0.10.7\u001b[39m\n",
      " \u001b[90m [48062228] \u001b[39m\u001b[92m+ FilePathsBase v0.9.20\u001b[39m\n",
      " \u001b[90m [842dd82b] \u001b[39m\u001b[92m+ InlineStrings v1.3.2\u001b[39m\n",
      " \u001b[90m [91c51154] \u001b[39m\u001b[92m+ SentinelArrays v1.3.16\u001b[39m\n",
      " \u001b[90m [ea10d353] \u001b[39m\u001b[92m+ WeakRefStrings v1.4.2\u001b[39m\n",
      "\u001b[32m\u001b[1mPrecompiling\u001b[22m\u001b[39m project...\n",
      "\u001b[32m  ✓ \u001b[39m\u001b[90mSentinelArrays\u001b[39m\n",
      "\u001b[32m  ✓ \u001b[39m\u001b[90mFilePathsBase\u001b[39m\n",
      "\u001b[32m  ✓ \u001b[39m\u001b[90mInlineStrings\u001b[39m\n",
      "\u001b[32m  ✓ \u001b[39m\u001b[90mWeakRefStrings\u001b[39m\n",
      "\u001b[32m  ✓ \u001b[39mCSV\n",
      "  5 dependencies successfully precompiled in 5 seconds. 220 already precompiled. 1 skipped during auto due to previous errors.\n"
     ]
    }
   ],
   "source": [
    "Pkg.add(\"CSV\")"
   ]
  },
  {
   "cell_type": "code",
   "execution_count": 69,
   "id": "3c9bcdfc",
   "metadata": {},
   "outputs": [
    {
     "data": {
      "text/plain": [
       "PDI_BC (generic function with 1 method)"
      ]
     },
     "execution_count": 69,
     "metadata": {},
     "output_type": "execute_result"
    }
   ],
   "source": [
    "include(\"src/readPRP.jl\")\n",
    "include(\"src/utils.jl\")\n",
    "include(\"src/Heuristic/binPacking.jl\")\n",
    "include(\"src/Heuristic/clarkWright.jl\")\n",
    "include(\"src/Heuristic/sectorielle.jl\")\n",
    "include(\"src/PLNE/PDI_BC.jl\")"
   ]
  },
  {
   "cell_type": "code",
   "execution_count": 70,
   "id": "88ed7156",
   "metadata": {},
   "outputs": [],
   "source": [
    "using Dates\n",
    "using CSV\n",
    "using DataFrames"
   ]
  },
  {
   "cell_type": "code",
   "execution_count": 71,
   "id": "d0e52db6",
   "metadata": {},
   "outputs": [
    {
     "data": {
      "text/plain": [
       "Cout_Circuit (generic function with 1 method)"
      ]
     },
     "execution_count": 71,
     "metadata": {},
     "output_type": "execute_result"
    }
   ],
   "source": [
    "function Cout_Circuit(cout, circuit)\n",
    "    c = circuit[1]\n",
    "    cout_total = 0\n",
    "    for (from, to) in zip(c[1:end-1], c[2:end])\n",
    "        cout_total += cout[from+1, to+1]\n",
    "    end\n",
    "    cout_total += cout[c[end]+1, c[1]+1]\n",
    "    return cout_total\n",
    "end"
   ]
  },
  {
   "cell_type": "code",
   "execution_count": 48,
   "id": "f0f5ee52",
   "metadata": {
    "scrolled": true
   },
   "outputs": [
    {
     "data": {
      "text/plain": [
       "test_heuristics (generic function with 3 methods)"
      ]
     },
     "execution_count": 48,
     "metadata": {},
     "output_type": "execute_result"
    }
   ],
   "source": [
    "function test_heuristics(nb_files, dir)\n",
    "    plne=false\n",
    "    res = \"\"\n",
    "    log = string(\"log_\", Dates.now(), \".txt\")\n",
    "    files = readdir(dir)[1:nb_files]\n",
    "    \n",
    "    df = DataFrame(file = [], \n",
    "                BP_score = [],\n",
    "                CW_score = [],\n",
    "                SECT_score = [],\n",
    "                BP_time = [],\n",
    "                CW_time = [],\n",
    "                SECT_time = [],\n",
    "                )\n",
    "    \n",
    "    for file in files\n",
    "        f = string(dir, \"/\", file)\n",
    "        h = Read_PRP_instance(f)\n",
    "        s = zeros(4)\n",
    "        time = zeros(4)\n",
    "        if plne\n",
    "            pl, t_pdi = @timed PDI_BC(h)\n",
    "            x = all_variables(pl)\n",
    "            x = x[end-(h[\"n\"]+1)*(h[\"n\"]+1)*h[\"l\"]+1:end]\n",
    "        end\n",
    "        \n",
    "        costs = calcul_dist(h)\n",
    "        for t in 1:h[\"l\"]\n",
    "            sect, t_sect = @timed Sectorielle(h, t)\n",
    "            cw, t_cw = @timed clark_wright(h, h[\"Clients\"].d, costs, t)\n",
    "            bp, t_bp = @timed binPacking(h, t)\n",
    "            \n",
    "            if plne\n",
    "                c_i = 1\n",
    "                c_j = 1\n",
    "                c_plne = 0\n",
    "                for i in (h[\"n\"]+1)*(h[\"n\"]+1)*(t-1)+1 : (h[\"n\"]+1)*(h[\"n\"]+1)*(t)\n",
    "                    c_plne += value.(x[i]) * costs[c_i, c_j]\n",
    "                    c_i = (c_i + 1) % (h[\"n\"]+2)\n",
    "                    if c_i == 0\n",
    "                        c_i += 1\n",
    "                        c_j += 1\n",
    "                    end\n",
    "                end\n",
    "                s[4] += c_plne\n",
    "                time[4] += t_pdi\n",
    "            end\n",
    "            c_bp = Cout_Circuit(costs, bp)\n",
    "            c_cw = Cout_Circuit(costs, cw)\n",
    "            c_sect = Cout_Circuit(costs, sect)\n",
    "            s[1] += c_bp\n",
    "            s[2] += c_cw\n",
    "            s[3] += c_sect\n",
    "            time[1] += t_bp\n",
    "            time[2] += t_cw\n",
    "            time[3] += t_sect\n",
    "        end\n",
    "\n",
    "        small = s[1]\n",
    "        if plne\n",
    "            toadd = string(f, \" : \", \"BP : \", s[1], \"/\", time[1], \" | CW : \", s[2], \"/\", time[2], \" | SECT : \", s[3], \"/\", time[3], \" | PLNE : \", s[4], \"/\", time[4], \"\\n\")\n",
    "        else\n",
    "            toadd = string(f, \" : \", \"BP : \", s[1], \"/\", time[1], \" | CW : \", s[2], \"/\", time[2], \" | SECT : \", s[3], \"/\", time[3], \"\\n\")\n",
    "        end\n",
    "        io = open(log, \"a\")\n",
    "        write(io, toadd)\n",
    "        close(io)\n",
    "    end\n",
    "    return res\n",
    "end"
   ]
  },
  {
   "cell_type": "code",
   "execution_count": null,
   "id": "14782303",
   "metadata": {},
   "outputs": [],
   "source": []
  },
  {
   "cell_type": "code",
   "execution_count": 53,
   "id": "ef584993",
   "metadata": {
    "scrolled": true
   },
   "outputs": [
    {
     "ename": "LoadError",
     "evalue": "InterruptException:",
     "output_type": "error",
     "traceback": [
      "InterruptException:",
      "",
      "Stacktrace:",
      " [1] iterate",
      "   @ ./range.jl:879 [inlined]",
      " [2] clark_wright(params::Dict{Any, Any}, demands::Vector{Array{Float64}}, costs::Matrix{Float64}, t::Int64)",
      "   @ Main ~/Documents/master/MAOA/projet_MAOA_TOULLALAN_Antoine_CORCORAL_Thomas/src/Heuristic/clarkWright.jl:13",
      " [3] macro expansion",
      "   @ ./timing.jl:463 [inlined]",
      " [4] test_heuristics(nb_files::Int64, dir::String)",
      "   @ Main ./In[48]:20",
      " [5] top-level scope",
      "   @ In[53]:1",
      " [6] eval",
      "   @ ./boot.jl:368 [inlined]",
      " [7] include_string(mapexpr::typeof(REPL.softscope), mod::Module, code::String, filename::String)",
      "   @ Base ./loading.jl:1428"
     ]
    }
   ],
   "source": [
    "r = test_heuristics(800, \"PRP_instances\")"
   ]
  },
  {
   "cell_type": "code",
   "execution_count": 72,
   "id": "d5c1f5da",
   "metadata": {},
   "outputs": [
    {
     "data": {
      "text/plain": [
       "test_heuristics_csv (generic function with 1 method)"
      ]
     },
     "execution_count": 72,
     "metadata": {},
     "output_type": "execute_result"
    }
   ],
   "source": [
    "function test_heuristics_csv(nb_files, dir)\n",
    "    plne=false\n",
    "    res = \"\"\n",
    "    log = string(\"log/log_\", Dates.now(), \".csv\")\n",
    "    files = readdir(dir)[1:nb_files]\n",
    "    \n",
    "    df = DataFrame(file = [], \n",
    "                BP_score = [],\n",
    "                CW_score = [],\n",
    "                SECT_score = [],\n",
    "                BP_time = [],\n",
    "                CW_time = [],\n",
    "                SECT_time = [],\n",
    "                )\n",
    "    \n",
    "    for file in files\n",
    "        f = string(dir, \"/\", file)\n",
    "        h = Read_PRP_instance(f)\n",
    "        s = zeros(4)\n",
    "        time = zeros(4)\n",
    "        if plne\n",
    "            pl, t_pdi = @timed PDI_BC(h)\n",
    "            x = all_variables(pl)\n",
    "            x = x[end-(h[\"n\"]+1)*(h[\"n\"]+1)*h[\"l\"]+1:end]\n",
    "        end\n",
    "        \n",
    "        costs = calcul_dist(h)\n",
    "        for t in 1:h[\"l\"]\n",
    "            sect, t_sect = @timed Sectorielle(h, t)\n",
    "            cw, t_cw = @timed clark_wright(h, h[\"Clients\"].d, costs, t)\n",
    "            bp, t_bp = @timed binPacking(h, t)\n",
    "            \n",
    "            if plne\n",
    "                c_i = 1\n",
    "                c_j = 1\n",
    "                c_plne = 0\n",
    "                for i in (h[\"n\"]+1)*(h[\"n\"]+1)*(t-1)+1 : (h[\"n\"]+1)*(h[\"n\"]+1)*(t)\n",
    "                    c_plne += value.(x[i]) * costs[c_i, c_j]\n",
    "                    c_i = (c_i + 1) % (h[\"n\"]+2)\n",
    "                    if c_i == 0\n",
    "                        c_i += 1\n",
    "                        c_j += 1\n",
    "                    end\n",
    "                end\n",
    "                s[4] += c_plne\n",
    "                time[4] += t_pdi\n",
    "            end\n",
    "            c_bp = Cout_Circuit(costs, bp)\n",
    "            c_cw = Cout_Circuit(costs, cw)\n",
    "            c_sect = Cout_Circuit(costs, sect)\n",
    "            \n",
    "            s[1] += c_bp\n",
    "            s[2] += c_cw\n",
    "            s[3] += c_sect\n",
    "            time[1] += t_bp\n",
    "            time[2] += t_cw\n",
    "            time[3] += t_sect\n",
    "        end\n",
    "        \n",
    "        df_current = DataFrame(file = [file], BP_score = [s[1]], CW_score = [s[2]], SECT_score = [s[3]], BP_time = [time[1]], CW_time = [time[2]], SECT_time = [time[3]])\n",
    "        append!(df, df_current)\n",
    "    end\n",
    "    CSV.write(log, df)\n",
    "    \n",
    "    return df\n",
    "end"
   ]
  },
  {
   "cell_type": "code",
   "execution_count": 134,
   "id": "c8393151",
   "metadata": {},
   "outputs": [
    {
     "name": "stdout",
     "output_type": "stream",
     "text": [
      "./PRP_instances/A_014_#ABS1_15_1.prp : BP : 21744.063854635893 | CW : 15635.991220239124 | SECT : 12422.161737710303 | PLNE2837.9883372646273\n"
     ]
    }
   ],
   "source": [
    "print(r)"
   ]
  },
  {
   "cell_type": "code",
   "execution_count": 58,
   "id": "4750922c",
   "metadata": {},
   "outputs": [
    {
     "data": {
      "text/plain": [
       "\"./PRP_instances/B_100_instance17.prp\""
      ]
     },
     "execution_count": 58,
     "metadata": {},
     "output_type": "execute_result"
    }
   ],
   "source": [
    "\n",
    "    \"./PRP_instances/B_100_instance17.prp\""
   ]
  },
  {
   "cell_type": "code",
   "execution_count": 124,
   "id": "9bef0fe2",
   "metadata": {},
   "outputs": [
    {
     "data": {
      "text/plain": [
       "\"a10.25 : BL 5474\""
      ]
     },
     "execution_count": 124,
     "metadata": {},
     "output_type": "execute_result"
    }
   ],
   "source": [
    "string(\"a\", 10.25, \" : BL \", 547, 4)"
   ]
  },
  {
   "cell_type": "code",
   "execution_count": 4,
   "id": "9d3ca577",
   "metadata": {},
   "outputs": [
    {
     "data": {
      "text/plain": [
       "\"2022-12-06T13:54:57.357\""
      ]
     },
     "execution_count": 4,
     "metadata": {},
     "output_type": "execute_result"
    }
   ],
   "source": [
    "using Dates\n",
    "string(Dates.now())"
   ]
  },
  {
   "cell_type": "code",
   "execution_count": 75,
   "id": "80116331",
   "metadata": {},
   "outputs": [
    {
     "data": {
      "text/plain": [
       "\"\""
      ]
     },
     "execution_count": 75,
     "metadata": {},
     "output_type": "execute_result"
    }
   ],
   "source": [
    "test_heuristics_csv(900, \"PRP_instances\")"
   ]
  },
  {
   "cell_type": "code",
   "execution_count": null,
   "id": "f1dc2987",
   "metadata": {},
   "outputs": [],
   "source": []
  },
  {
   "cell_type": "code",
   "execution_count": 36,
   "id": "7e0d5e64",
   "metadata": {},
   "outputs": [
    {
     "data": {
      "text/plain": [
       "1531-element Vector{String}:\n",
       " \"A_014_#ABS1_15_1.prp\"\n",
       " \"A_014_ABS10_15_1.prp\"\n",
       " \"A_014_ABS10_15_2.prp\"\n",
       " \"A_014_ABS10_15_3.prp\"\n",
       " \"A_014_ABS10_15_4.prp\"\n",
       " \"A_014_ABS10_15_5.prp\"\n",
       " \"A_014_ABS11_15_1.prp\"\n",
       " \"A_014_ABS11_15_2.prp\"\n",
       " \"A_014_ABS11_15_3.prp\"\n",
       " \"A_014_ABS11_15_4.prp\"\n",
       " \"A_014_ABS11_15_5.prp\"\n",
       " \"A_014_ABS12_15_1.prp\"\n",
       " \"A_014_ABS12_15_2.prp\"\n",
       " ⋮\n",
       " \"B_200_instance26.prp\"\n",
       " \"B_200_instance27.prp\"\n",
       " \"B_200_instance28.prp\"\n",
       " \"B_200_instance29.prp\"\n",
       " \"B_200_instance3.prp\"\n",
       " \"B_200_instance30.prp\"\n",
       " \"B_200_instance4.prp\"\n",
       " \"B_200_instance5.prp\"\n",
       " \"B_200_instance6.prp\"\n",
       " \"B_200_instance7.prp\"\n",
       " \"B_200_instance8.prp\"\n",
       " \"B_200_instance9.prp\""
      ]
     },
     "execution_count": 36,
     "metadata": {},
     "output_type": "execute_result"
    }
   ],
   "source": [
    " readdir(\"PRP_instances\")"
   ]
  },
  {
   "cell_type": "code",
   "execution_count": 41,
   "id": "671acd0c",
   "metadata": {},
   "outputs": [
    {
     "data": {
      "text/plain": [
       "50-element Vector{String}:\n",
       " \"A_014_#ABS1_15_1.prp\"\n",
       " \"A_014_ABS10_15_1.prp\"\n",
       " \"A_014_ABS10_15_2.prp\"\n",
       " \"A_014_ABS10_15_3.prp\"\n",
       " \"A_014_ABS10_15_4.prp\"\n",
       " \"A_014_ABS10_15_5.prp\"\n",
       " \"A_014_ABS11_15_1.prp\"\n",
       " \"A_014_ABS11_15_2.prp\"\n",
       " \"A_014_ABS11_15_3.prp\"\n",
       " \"A_014_ABS11_15_4.prp\"\n",
       " \"A_014_ABS11_15_5.prp\"\n",
       " \"A_014_ABS12_15_1.prp\"\n",
       " \"A_014_ABS12_15_2.prp\"\n",
       " ⋮\n",
       " \"A_014_ABS17_15_3.prp\"\n",
       " \"A_014_ABS17_15_4.prp\"\n",
       " \"A_014_ABS17_15_5.prp\"\n",
       " \"A_014_ABS18_15_1.prp\"\n",
       " \"A_014_ABS18_15_2.prp\"\n",
       " \"A_014_ABS18_15_3.prp\"\n",
       " \"A_014_ABS18_15_4.prp\"\n",
       " \"A_014_ABS18_15_5.prp\"\n",
       " \"A_014_ABS19_15_1.prp\"\n",
       " \"A_014_ABS19_15_2.prp\"\n",
       " \"A_014_ABS19_15_3.prp\"\n",
       " \"A_014_ABS19_15_4.prp\""
      ]
     },
     "execution_count": 41,
     "metadata": {},
     "output_type": "execute_result"
    }
   ],
   "source": [
    "readdir(\"PRP_instances\")[1:50]"
   ]
  },
  {
   "cell_type": "code",
   "execution_count": 77,
   "id": "0efc9da7",
   "metadata": {},
   "outputs": [
    {
     "data": {
      "text/plain": [
       "Dict{Any, Any} with 9 entries:\n",
       "  \"f\"       => 3000\n",
       "  \"Q\"       => 322\n",
       "  \"C\"       => 10000000000\n",
       "  \"k\"       => 2085\n",
       "  \"Type\"    => 1\n",
       "  \"u\"       => 30\n",
       "  \"l\"       => 6\n",
       "  \"Clients\" => Clients(15, [574.0, 356.0, 307.0, 143.0, 604.0, 66.0, 68.0, 996.…\n",
       "  \"n\"       => 14"
      ]
     },
     "execution_count": 77,
     "metadata": {},
     "output_type": "execute_result"
    }
   ],
   "source": [
    "Read_PRP_instance(\"PRP_instances/A_014_ABS19_15_2.prp\")"
   ]
  },
  {
   "cell_type": "code",
   "execution_count": 66,
   "id": "2990d672",
   "metadata": {},
   "outputs": [
    {
     "data": {
      "text/plain": [
       "1531"
      ]
     },
     "execution_count": 66,
     "metadata": {},
     "output_type": "execute_result"
    }
   ],
   "source": [
    "length(readdir(\"PRP_instances\"))"
   ]
  },
  {
   "cell_type": "code",
   "execution_count": 90,
   "id": "a0c1f652",
   "metadata": {},
   "outputs": [
    {
     "data": {
      "text/plain": [
       "\"function LSP(prp, SC, optim=\\\"CPLEX\\\")\\n    if optim == \\\"HiGHS\\\"\\n        LP = Model(HiGHS.Optimizer)\\n    elseif optim == \\\"CPLEX\\\"\\n        LP = Model(CPLEX.Optimizer)\\n    else\\n        return -1\\n    end\\n\\n    n = prp[\\\"Clients\\\"].nb_clients      # Nombre de clients (usine inclue)\" ⋯ 1463 bytes ⋯ \"prp[\\\"Clients\\\"].L[i], prp[\\\"Q\\\"], sum(prp[\\\"Clients\\\"].d[i][j] for j in t:l))\\n            end\\n        end\\n        Mt = min(prp[\\\"C\\\"], sum(sum(prp[\\\"Clients\\\"].d[i][j] for i in 2:n) for j in t:l))\\n        @constraint(LP, p_dec[t] <= Mt * y_dec[t]) # (3)\\n    end\\n    return LP\\nend\""
      ]
     },
     "execution_count": 90,
     "metadata": {},
     "output_type": "execute_result"
    }
   ],
   "source": [
    "include(\"src/PLNE/LSP.jl\")"
   ]
  },
  {
   "cell_type": "code",
   "execution_count": 91,
   "id": "aafea1aa",
   "metadata": {},
   "outputs": [
    {
     "name": "stdout",
     "output_type": "stream",
     "text": [
      "Version identifier: 20.1.0.0 | 2020-11-10 | 9bedb6d68\n",
      "CPXPARAM_MIP_Tolerances_Integrality              1.0000000000000001e-15\n",
      "Tried aggregator 2 times.\n",
      "MIP Presolve eliminated 97 rows and 36 columns.\n",
      "MIP Presolve added 2 rows and 0 columns.\n",
      "Aggregator did 26 substitutions.\n",
      "Reduced MIP has 71 rows, 152 columns, and 293 nonzeros.\n",
      "Reduced MIP has 6 binaries, 0 generals, 0 SOSs, and 0 indicators.\n",
      "Presolve time = 0.00 sec. (0.41 ticks)\n",
      "Probing time = 0.00 sec. (0.00 ticks)\n",
      "Tried aggregator 1 time.\n",
      "Detecting symmetries...\n",
      "Reduced MIP has 71 rows, 152 columns, and 293 nonzeros.\n",
      "Reduced MIP has 6 binaries, 0 generals, 0 SOSs, and 0 indicators.\n",
      "Presolve time = 0.00 sec. (0.15 ticks)\n",
      "Probing time = 0.00 sec. (0.00 ticks)\n",
      "MIP emphasis: balance optimality and feasibility.\n",
      "MIP search method: dynamic search.\n",
      "Parallel mode: deterministic, using up to 8 threads.\n",
      "Root relaxation solution time = 0.00 sec. (0.20 ticks)\n",
      "\n",
      "        Nodes                                         Cuts/\n",
      "   Node  Left     Objective  IInf  Best Integer    Best Bound    ItCnt     Gap\n",
      "\n",
      "      0     0    13311.0001     4                  13311.0001       15         \n",
      "*     0+    0                        25311.0000    13311.0001            47.41%\n",
      "      0     0        cutoff          25311.0000                     19    0.00%\n",
      "Elapsed time = 0.01 sec. (1.38 ticks, tree = 0.01 MB, solutions = 1)\n",
      "* Solver : CPLEX\n",
      "\n",
      "* Status\n",
      "  Termination status : OPTIMAL\n",
      "  Primal status      : FEASIBLE_POINT\n",
      "  Dual status        : NO_SOLUTION\n",
      "  Result count       : 1\n",
      "  Has duals          : false\n",
      "  Message from the solver:\n",
      "  \"integer optimal solution\"\n",
      "\n",
      "* Candidate solution\n",
      "  Objective value      : 2.53110e+04\n",
      "  Objective bound      : 2.53110e+04\n",
      "  Relative gap         : 0.00000e+00\n",
      "  Dual objective value : 2.53110e+04\n",
      "  Primal solution :\n",
      "    I_dec[0,0] : 0.00000e+00\n",
      "    I_dec[0,1] : 0.00000e+00\n",
      "    I_dec[0,2] : 0.00000e+00\n",
      "    I_dec[0,3] : 0.00000e+00\n",
      "    I_dec[0,4] : 0.00000e+00\n",
      "    I_dec[0,5] : 0.00000e+00\n",
      "    I_dec[0,6] : 0.00000e+00\n",
      "    I_dec[1,0] : 0.00000e+00\n",
      "    I_dec[1,1] : 0.00000e+00\n",
      "    I_dec[1,2] : 0.00000e+00\n",
      "    I_dec[1,3] : 0.00000e+00\n",
      "    I_dec[1,4] : 0.00000e+00\n",
      "    I_dec[1,5] : 0.00000e+00\n",
      "    I_dec[1,6] : 0.00000e+00\n",
      "    I_dec[10,0] : 0.00000e+00\n",
      "    I_dec[10,1] : 7.00000e+01\n",
      "    I_dec[10,2] : 5.60000e+01\n",
      "    I_dec[10,3] : 4.20000e+01\n",
      "    I_dec[10,4] : 2.80000e+01\n",
      "    I_dec[10,5] : 1.40000e+01\n",
      "    I_dec[10,6] : -7.46070e-14\n",
      "    I_dec[11,0] : 0.00000e+00\n",
      "    I_dec[11,1] : 1.90000e+01\n",
      "    I_dec[11,2] : 0.00000e+00\n",
      "    I_dec[11,3] : 0.00000e+00\n",
      "    I_dec[11,4] : 0.00000e+00\n",
      "    I_dec[11,5] : 0.00000e+00\n",
      "    I_dec[11,6] : 0.00000e+00\n",
      "    I_dec[12,0] : 0.00000e+00\n",
      "    I_dec[12,1] : 1.30000e+01\n",
      "    I_dec[12,2] : 0.00000e+00\n",
      "    I_dec[12,3] : 0.00000e+00\n",
      "    I_dec[12,4] : 0.00000e+00\n",
      "    I_dec[12,5] : 0.00000e+00\n",
      "    I_dec[12,6] : 0.00000e+00\n",
      "    I_dec[13,0] : 0.00000e+00\n",
      "    I_dec[13,1] : 6.80000e+01\n",
      "    I_dec[13,2] : 5.10000e+01\n",
      "    I_dec[13,3] : 3.40000e+01\n",
      "    I_dec[13,4] : 1.70000e+01\n",
      "    I_dec[13,5] : 0.00000e+00\n",
      "    I_dec[13,6] : 0.00000e+00\n",
      "    I_dec[14,0] : 0.00000e+00\n",
      "    I_dec[14,1] : 6.50000e+01\n",
      "    I_dec[14,2] : 5.20000e+01\n",
      "    I_dec[14,3] : 3.90000e+01\n",
      "    I_dec[14,4] : 2.60000e+01\n",
      "    I_dec[14,5] : 1.30000e+01\n",
      "    I_dec[14,6] : -6.39488e-14\n",
      "    I_dec[15,0] : 0.00000e+00\n",
      "    I_dec[15,1] : 7.00000e+01\n",
      "    I_dec[15,2] : 5.60000e+01\n",
      "    I_dec[15,3] : 4.20000e+01\n",
      "    I_dec[15,4] : 2.80000e+01\n",
      "    I_dec[15,5] : 1.40000e+01\n",
      "    I_dec[15,6] : -7.46070e-14\n",
      "    I_dec[2,0] : 0.00000e+00\n",
      "    I_dec[2,1] : 3.20000e+01\n",
      "    I_dec[2,2] : 1.60000e+01\n",
      "    I_dec[2,3] : 0.00000e+00\n",
      "    I_dec[2,4] : 0.00000e+00\n",
      "    I_dec[2,5] : 0.00000e+00\n",
      "    I_dec[2,6] : 0.00000e+00\n",
      "    I_dec[3,0] : 0.00000e+00\n",
      "    I_dec[3,1] : 2.40000e+01\n",
      "    I_dec[3,2] : 1.80000e+01\n",
      "    I_dec[3,3] : 1.20000e+01\n",
      "    I_dec[3,4] : 6.00000e+00\n",
      "    I_dec[3,5] : 0.00000e+00\n",
      "    I_dec[3,6] : 0.00000e+00\n",
      "    I_dec[4,0] : 0.00000e+00\n",
      "    I_dec[4,1] : 2.00000e+01\n",
      "    I_dec[4,2] : 1.50000e+01\n",
      "    I_dec[4,3] : 1.00000e+01\n",
      "    I_dec[4,4] : 5.00000e+00\n",
      "    I_dec[4,5] : 0.00000e+00\n",
      "    I_dec[4,6] : 0.00000e+00\n",
      "    I_dec[5,0] : 0.00000e+00\n",
      "    I_dec[5,1] : 1.80000e+01\n",
      "    I_dec[5,2] : 9.00000e+00\n",
      "    I_dec[5,3] : 0.00000e+00\n",
      "    I_dec[5,4] : 0.00000e+00\n",
      "    I_dec[5,5] : 0.00000e+00\n",
      "    I_dec[5,6] : 0.00000e+00\n",
      "    I_dec[6,0] : 0.00000e+00\n",
      "    I_dec[6,1] : 1.05000e+02\n",
      "    I_dec[6,2] : 8.40000e+01\n",
      "    I_dec[6,3] : 6.30000e+01\n",
      "    I_dec[6,4] : 4.20000e+01\n",
      "    I_dec[6,5] : 2.10000e+01\n",
      "    I_dec[6,6] : -9.23706e-14\n",
      "    I_dec[7,0] : 0.00000e+00\n",
      "    I_dec[7,1] : 4.00000e+01\n",
      "    I_dec[7,2] : 3.20000e+01\n",
      "    I_dec[7,3] : 2.40000e+01\n",
      "    I_dec[7,4] : 1.60000e+01\n",
      "    I_dec[7,5] : 8.00000e+00\n",
      "    I_dec[7,6] : -3.73035e-14\n",
      "    I_dec[8,0] : 0.00000e+00\n",
      "    I_dec[8,1] : 1.00000e+02\n",
      "    I_dec[8,2] : 8.00000e+01\n",
      "    I_dec[8,3] : 6.00000e+01\n",
      "    I_dec[8,4] : 4.00000e+01\n",
      "    I_dec[8,5] : 2.00000e+01\n",
      "    I_dec[8,6] : -9.23706e-14\n",
      "    I_dec[9,0] : 0.00000e+00\n",
      "    I_dec[9,1] : 2.20000e+01\n",
      "    I_dec[9,2] : 0.00000e+00\n",
      "    I_dec[9,3] : 0.00000e+00\n",
      "    I_dec[9,4] : 0.00000e+00\n",
      "    I_dec[9,5] : 0.00000e+00\n",
      "    I_dec[9,6] : 0.00000e+00\n",
      "    p_dec[1] : 0.00000e+00\n",
      "    p_dec[2] : 0.00000e+00\n",
      "    p_dec[3] : 5.40000e+01\n",
      "    p_dec[4] : 7.90000e+01\n",
      "    p_dec[5] : 7.90000e+01\n",
      "    p_dec[6] : 1.07000e+02\n",
      "    q_dec[1,1] : 0.00000e+00\n",
      "    q_dec[1,2] : 0.00000e+00\n",
      "    q_dec[1,3] : 0.00000e+00\n",
      "    q_dec[1,4] : 0.00000e+00\n",
      "    q_dec[1,5] : 0.00000e+00\n",
      "    q_dec[1,6] : 0.00000e+00\n",
      "    q_dec[10,1] : 0.00000e+00\n",
      "    q_dec[10,2] : 0.00000e+00\n",
      "    q_dec[10,3] : 0.00000e+00\n",
      "    q_dec[10,4] : 0.00000e+00\n",
      "    q_dec[10,5] : 0.00000e+00\n",
      "    q_dec[10,6] : 0.00000e+00\n",
      "    q_dec[11,1] : 0.00000e+00\n",
      "    q_dec[11,2] : 0.00000e+00\n",
      "    q_dec[11,3] : 1.90000e+01\n",
      "    q_dec[11,4] : 1.90000e+01\n",
      "    q_dec[11,5] : 1.90000e+01\n",
      "    q_dec[11,6] : 1.90000e+01\n",
      "    q_dec[12,1] : 0.00000e+00\n",
      "    q_dec[12,2] : 0.00000e+00\n",
      "    q_dec[12,3] : 1.30000e+01\n",
      "    q_dec[12,4] : 1.30000e+01\n",
      "    q_dec[12,5] : 1.30000e+01\n",
      "    q_dec[12,6] : 1.30000e+01\n",
      "    q_dec[13,1] : 0.00000e+00\n",
      "    q_dec[13,2] : 0.00000e+00\n",
      "    q_dec[13,3] : 0.00000e+00\n",
      "    q_dec[13,4] : 0.00000e+00\n",
      "    q_dec[13,5] : 0.00000e+00\n",
      "    q_dec[13,6] : 1.70000e+01\n",
      "    q_dec[14,1] : 0.00000e+00\n",
      "    q_dec[14,2] : 0.00000e+00\n",
      "    q_dec[14,3] : 0.00000e+00\n",
      "    q_dec[14,4] : 0.00000e+00\n",
      "    q_dec[14,5] : 0.00000e+00\n",
      "    q_dec[14,6] : 0.00000e+00\n",
      "    q_dec[15,1] : 0.00000e+00\n",
      "    q_dec[15,2] : 0.00000e+00\n",
      "    q_dec[15,3] : 0.00000e+00\n",
      "    q_dec[15,4] : 0.00000e+00\n",
      "    q_dec[15,5] : 0.00000e+00\n",
      "    q_dec[15,6] : 0.00000e+00\n",
      "    q_dec[2,1] : 0.00000e+00\n",
      "    q_dec[2,2] : 0.00000e+00\n",
      "    q_dec[2,3] : 0.00000e+00\n",
      "    q_dec[2,4] : 1.60000e+01\n",
      "    q_dec[2,5] : 1.60000e+01\n",
      "    q_dec[2,6] : 1.60000e+01\n",
      "    q_dec[3,1] : 0.00000e+00\n",
      "    q_dec[3,2] : 0.00000e+00\n",
      "    q_dec[3,3] : 0.00000e+00\n",
      "    q_dec[3,4] : 0.00000e+00\n",
      "    q_dec[3,5] : 0.00000e+00\n",
      "    q_dec[3,6] : 6.00000e+00\n",
      "    q_dec[4,1] : 0.00000e+00\n",
      "    q_dec[4,2] : 0.00000e+00\n",
      "    q_dec[4,3] : 0.00000e+00\n",
      "    q_dec[4,4] : 0.00000e+00\n",
      "    q_dec[4,5] : 0.00000e+00\n",
      "    q_dec[4,6] : 5.00000e+00\n",
      "    q_dec[5,1] : 0.00000e+00\n",
      "    q_dec[5,2] : 0.00000e+00\n",
      "    q_dec[5,3] : 0.00000e+00\n",
      "    q_dec[5,4] : 9.00000e+00\n",
      "    q_dec[5,5] : 9.00000e+00\n",
      "    q_dec[5,6] : 9.00000e+00\n",
      "    q_dec[6,1] : 0.00000e+00\n",
      "    q_dec[6,2] : 0.00000e+00\n",
      "    q_dec[6,3] : 0.00000e+00\n",
      "    q_dec[6,4] : 0.00000e+00\n",
      "    q_dec[6,5] : 0.00000e+00\n",
      "    q_dec[6,6] : 0.00000e+00\n",
      "    q_dec[7,1] : 0.00000e+00\n",
      "    q_dec[7,2] : 0.00000e+00\n",
      "    q_dec[7,3] : 0.00000e+00\n",
      "    q_dec[7,4] : 0.00000e+00\n",
      "    q_dec[7,5] : 0.00000e+00\n",
      "    q_dec[7,6] : 0.00000e+00\n",
      "    q_dec[8,1] : 0.00000e+00\n",
      "    q_dec[8,2] : 0.00000e+00\n",
      "    q_dec[8,3] : 0.00000e+00\n",
      "    q_dec[8,4] : 0.00000e+00\n",
      "    q_dec[8,5] : 0.00000e+00\n",
      "    q_dec[8,6] : 0.00000e+00\n",
      "    q_dec[9,1] : 0.00000e+00\n",
      "    q_dec[9,2] : 0.00000e+00\n",
      "    q_dec[9,3] : 2.20000e+01\n",
      "    q_dec[9,4] : 2.20000e+01\n",
      "    q_dec[9,5] : 2.20000e+01\n",
      "    q_dec[9,6] : 2.20000e+01\n",
      "    y_dec[1] : -0.00000e+00\n",
      "    y_dec[2] : -0.00000e+00\n",
      "    y_dec[3] : 1.00000e+00\n",
      "    y_dec[4] : 1.00000e+00\n",
      "    y_dec[5] : 1.00000e+00\n",
      "    y_dec[6] : 1.00000e+00\n",
      "\n",
      "* Work counters\n",
      "  Solve time (sec)   : 1.37122e-02\n",
      "  Simplex iterations : 0\n",
      "  Barrier iterations : 0\n",
      "  Node count         : 0\n",
      "\n",
      "\n",
      "Root node processing (before b&c):\n",
      "  Real time             =    0.01 sec. (1.38 ticks)\n",
      "Parallel b&c, 8 threads:\n",
      "  Real time             =    0.00 sec. (0.00 ticks)\n",
      "  Sync time (average)   =    0.00 sec.\n",
      "  Wait time (average)   =    0.00 sec.\n",
      "                          ------------\n",
      "Total (root+branch&cut) =    0.01 sec. (1.38 ticks)\n",
      "CPLEX Error  1217: No solution exists.\n",
      "CPLEX Error  1217: No solution exists.\n"
     ]
    },
    {
     "data": {
      "text/plain": [
       "([0.0, 0.0, 54.0, 79.0, 79.0, 107.0], [-0.0, -0.0, 1.0, 1.0, 1.0, 1.0], 2-dimensional DenseAxisArray{Float64,2,...} with index sets:\n",
       "    Dimension 1, 0:15\n",
       "    Dimension 2, 0:6\n",
       "And data, a 16×7 Matrix{Float64}:\n",
       " 0.0    0.0   0.0                …   0.0\n",
       " 0.0    0.0   0.0                    0.0\n",
       " 0.0   32.0  15.99999999999999       0.0\n",
       " 0.0   24.0  17.999999999999993      0.0\n",
       " 0.0   20.0  14.999999999999993      0.0\n",
       " 0.0   18.0   8.999999999999993  …   0.0\n",
       " 0.0  105.0  83.99999999999997      -9.237055564881302e-14\n",
       " 0.0   40.0  31.999999999999986     -3.730349362740526e-14\n",
       " 0.0  100.0  79.99999999999997      -9.237055564881302e-14\n",
       " 0.0   22.0   0.0                    0.0\n",
       " 0.0   70.0  55.99999999999997   …  -7.460698725481052e-14\n",
       " 0.0   19.0   0.0                    0.0\n",
       " 0.0   13.0   0.0                    0.0\n",
       " 0.0   68.0  50.99999999999997       0.0\n",
       " 0.0   65.0  51.99999999999997      -6.394884621840902e-14\n",
       " 0.0   70.0  55.99999999999997   …  -7.460698725481052e-14, [0.0 0.0 … 0.0 0.0; 0.0 0.0 … 16.0 16.0; … ; 0.0 0.0 … 0.0 0.0; 0.0 0.0 … 0.0 0.0])"
      ]
     },
     "execution_count": 91,
     "metadata": {},
     "output_type": "execute_result"
    }
   ],
   "source": [
    "PL_LSP(Read_PRP_instance(\"PRP_instances/A_014_ABS19_15_2.prp\"), 0)"
   ]
  },
  {
   "cell_type": "code",
   "execution_count": null,
   "id": "d0592aef",
   "metadata": {},
   "outputs": [],
   "source": []
  }
 ],
 "metadata": {
  "kernelspec": {
   "display_name": "Julia 1.8.2",
   "language": "julia",
   "name": "julia-1.8"
  },
  "language_info": {
   "file_extension": ".jl",
   "mimetype": "application/julia",
   "name": "julia",
   "version": "1.8.2"
  }
 },
 "nbformat": 4,
 "nbformat_minor": 5
}
