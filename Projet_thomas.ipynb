{
 "cells": [
  {
   "cell_type": "code",
   "execution_count": 1,
   "id": "bcb47c2f",
   "metadata": {},
   "outputs": [],
   "source": [
    "using JuMP\n",
    "using CPLEX\n",
    "using CPUTime\n",
    "using Graphs"
   ]
  },
  {
   "cell_type": "code",
   "execution_count": 2,
   "id": "dea21557",
   "metadata": {},
   "outputs": [],
   "source": [
    "struct Clients\n",
    "    nb_clients\n",
    "    X\n",
    "    Y\n",
    "    h\n",
    "    L\n",
    "    L0\n",
    "    d\n",
    "end"
   ]
  },
  {
   "cell_type": "code",
   "execution_count": 3,
   "id": "2de5666f",
   "metadata": {},
   "outputs": [
    {
     "data": {
      "text/plain": [
       "Read_PRP_instance (generic function with 1 method)"
      ]
     },
     "execution_count": 3,
     "metadata": {},
     "output_type": "execute_result"
    }
   ],
   "source": [
    "function Read_PRP_instance(filename)\n",
    "    hashmap = Dict()\n",
    "    open(filename) do f\n",
    "        \n",
    "        demands = false\n",
    "        listing_active = false\n",
    "        current_value = 0\n",
    "        \n",
    "        nbc = 0\n",
    "        X = Array{Float64}(undef, 0)\n",
    "        Y = Array{Float64}(undef, 0)\n",
    "        h = Array{Float64}(undef, 0)\n",
    "        L = Array{Float64}(undef, 0)\n",
    "        L0 = Array{Float64}(undef, 0)\n",
    "        d = Array{Array{Float64}}(undef, 0)\n",
    "        \n",
    "        for (i, line) in enumerate(eachline(f))\n",
    "            x = split(line, \" \")\n",
    "            deleteat!(x, findall(e->e==\"\", x))\n",
    "            current_item = x[1]\n",
    "            \n",
    "            if(current_item == \"0\" || listing_active) # Liste de clients / demandes\n",
    "                listing_active = true\n",
    "                if(current_item == \"d\")\n",
    "                    demands = true\n",
    "                elseif(demands) # Enregistrement des demandes\n",
    "                    push!(d, parse.(Float64, x)[2:end])\n",
    "                else # enregistrement des clients\n",
    "                    nbc += 1\n",
    "                    push!(X, parse(Float64, x[2]))\n",
    "                    push!(Y, parse(Float64, x[3]))\n",
    "                    push!(h, parse(Float64, x[6]))\n",
    "                    push!(L, parse(Float64, x[8]))\n",
    "                    push!(L0, parse(Float64, x[10]))\n",
    "                end\n",
    "            else # variables générales du problème\n",
    "                try\n",
    "                    current_value = parse(Int64, x[2])\n",
    "                catch err\n",
    "                    current_value = 10000000000\n",
    "                end\n",
    "                hashmap[current_item] = current_value\n",
    "            end\n",
    "        end\n",
    "        C = Clients(nbc, X, Y, h, L, L0, d)\n",
    "        hashmap[\"Clients\"] = C\n",
    "    end \n",
    "    return hashmap\n",
    "end"
   ]
  },
  {
   "cell_type": "code",
   "execution_count": 4,
   "id": "ae6cb1a7",
   "metadata": {},
   "outputs": [
    {
     "data": {
      "text/plain": [
       "Dict{Any, Any} with 9 entries:\n",
       "  \"f\"       => 3000\n",
       "  \"Q\"       => 322\n",
       "  \"C\"       => 10000000000\n",
       "  \"k\"       => 2085\n",
       "  \"Type\"    => 1\n",
       "  \"u\"       => 30\n",
       "  \"l\"       => 6\n",
       "  \"Clients\" => Clients(15, [143.0, 89.0, 76.0, 285.0, 401.0, 16.0, 267.0, 249.0…\n",
       "  \"n\"       => 14"
      ]
     },
     "execution_count": 4,
     "metadata": {},
     "output_type": "execute_result"
    }
   ],
   "source": [
    "h = Read_PRP_instance(\"./PRP_instances/A_014_#ABS1_15_1.prp\")"
   ]
  },
  {
   "cell_type": "code",
   "execution_count": 5,
   "id": "27b312b0",
   "metadata": {},
   "outputs": [
    {
     "data": {
      "text/plain": [
       "6.0"
      ]
     },
     "execution_count": 5,
     "metadata": {},
     "output_type": "execute_result"
    }
   ],
   "source": [
    "h[\"Clients\"].h[14]"
   ]
  },
  {
   "cell_type": "code",
   "execution_count": 6,
   "id": "0875d779",
   "metadata": {},
   "outputs": [
    {
     "data": {
      "text/plain": [
       "dist (generic function with 1 method)"
      ]
     },
     "execution_count": 6,
     "metadata": {},
     "output_type": "execute_result"
    }
   ],
   "source": [
    "function dist(C, i, j, t, mc)\n",
    "    if(t == 1)\n",
    "        return ((C.X[i] - C.X[j])^2 + (C.Y[i] - C.Y[j])^2)^(0.5) + 0.5\n",
    "    else\n",
    "        return ((C.X[i] - C.X[j])^2 + (C.Y[i] - C.Y[j])^2)^(0.5) * mc\n",
    "    end\n",
    "end"
   ]
  },
  {
   "cell_type": "code",
   "execution_count": 7,
   "id": "53c31e94",
   "metadata": {},
   "outputs": [
    {
     "data": {
      "text/plain": [
       "calcul_dist (generic function with 1 method)"
      ]
     },
     "execution_count": 7,
     "metadata": {},
     "output_type": "execute_result"
    }
   ],
   "source": [
    "function calcul_dist(p)\n",
    "    if(p[\"Type\"] == 1)\n",
    "        mc = 0\n",
    "    else\n",
    "        mc = p[\"mc\"]\n",
    "    end\n",
    "    c = Array{Float64}(undef, (p[\"n\"]+1, p[\"n\"]+1))\n",
    "    for i in 1:p[\"n\"]+1\n",
    "        for j in 1:p[\"n\"]+1            \n",
    "            c[i, j] = dist(p[\"Clients\"], i, j, p[\"Type\"], mc)\n",
    "        end\n",
    "    end\n",
    "    return c\n",
    "end"
   ]
  },
  {
   "cell_type": "code",
   "execution_count": 8,
   "id": "3cd16ee6",
   "metadata": {},
   "outputs": [
    {
     "data": {
      "text/plain": [
       "106.0"
      ]
     },
     "execution_count": 8,
     "metadata": {},
     "output_type": "execute_result"
    }
   ],
   "source": [
    "sum(h[\"Clients\"].h[i] for i in 1:15)"
   ]
  },
  {
   "cell_type": "code",
   "execution_count": 9,
   "id": "5d222a4a",
   "metadata": {},
   "outputs": [
    {
     "data": {
      "text/plain": [
       "1380.0"
      ]
     },
     "execution_count": 9,
     "metadata": {},
     "output_type": "execute_result"
    }
   ],
   "source": [
    "sum(sum(h[\"Clients\"].d[jj][tt] for jj in 1:h[\"Clients\"].nb_clients-1) for tt in 1:h[\"l\"])"
   ]
  },
  {
   "cell_type": "code",
   "execution_count": 10,
   "id": "5665e43f",
   "metadata": {},
   "outputs": [
    {
     "name": "stdout",
     "output_type": "stream",
     "text": [
      "123456"
     ]
    }
   ],
   "source": [
    "for i in 1:6\n",
    "    print(i)\n",
    "end"
   ]
  },
  {
   "cell_type": "code",
   "execution_count": 11,
   "id": "e006eaa5",
   "metadata": {},
   "outputs": [
    {
     "data": {
      "text/plain": [
       "15"
      ]
     },
     "execution_count": 11,
     "metadata": {},
     "output_type": "execute_result"
    }
   ],
   "source": [
    "h[\"Clients\"].nb_clients"
   ]
  },
  {
   "cell_type": "code",
   "execution_count": 12,
   "id": "24fc4c69",
   "metadata": {},
   "outputs": [
    {
     "name": "stdout",
     "output_type": "stream",
     "text": [
      "[3]"
     ]
    }
   ],
   "source": [
    "a = [1, 2]\n",
    "b = [1,2,3]\n",
    "c = b[b .∉ Ref(a)]\n",
    "print(c)"
   ]
  },
  {
   "cell_type": "code",
   "execution_count": 13,
   "id": "b4e38c45",
   "metadata": {},
   "outputs": [
    {
     "data": {
      "text/plain": [
       "partiesliste (generic function with 1 method)"
      ]
     },
     "execution_count": 13,
     "metadata": {},
     "output_type": "execute_result"
    }
   ],
   "source": [
    "function partiesliste(seq, min_size, max_size)\n",
    "    p = [] #Array{Float64}(undef, 2^size(seq)[1]-1 - 2^min_size)\n",
    "    i = 1\n",
    "    imax = 2 ^ size(seq)[1]\n",
    "    while(i <= imax)\n",
    "        s = []\n",
    "        j, jmax = 0, size(seq)[1]-1\n",
    "        while(j <= jmax)\n",
    "            if((i>>j)&1 == 1)\n",
    "                append!(s, seq[j+1])\n",
    "            end\n",
    "            j += 1\n",
    "        end\n",
    "        if(size(s)[1] >= min_size && size(s)[1] <= max_size)\n",
    "            append!(p, [s])\n",
    "        end\n",
    "        i += 1\n",
    "    end\n",
    "    return p\n",
    "end"
   ]
  },
  {
   "cell_type": "code",
   "execution_count": 14,
   "id": "a800bfbb",
   "metadata": {},
   "outputs": [
    {
     "data": {
      "text/plain": [
       "Resolve_PRP (generic function with 1 method)"
      ]
     },
     "execution_count": 14,
     "metadata": {},
     "output_type": "execute_result"
    }
   ],
   "source": [
    "function Resolve_PRP(p)\n",
    "    LP = Model(CPLEX.Optimizer)\n",
    "    \n",
    "    c = calcul_dist(p)\n",
    "    \n",
    "    n = p[\"Clients\"].nb_clients      # Nombre de clients (usine inclue)\n",
    "    l = p[\"l\"]                       # Nombre de périodes\n",
    "    \n",
    "    @variable(LP, y[1:l], Bin)  # Production démarrée\n",
    "    @variable(LP, prod[1:l], Bin)  # Quantité produite\n",
    "    @variable(LP, inv[1:n, 1:l], Int)  # Inventaire des clients\n",
    "    @variable(LP, x[1:n, 1:n, 1:l], Bin)  # Camion entre i et j au temps t\n",
    "    @variable(LP, q[1:n, 1:l], Int) # qt délivré au client i à la période t\n",
    "    @variable(LP, z[1:n, 1:l], Int) # 1 client i visité au temps t, 0 sinon (Attention z[0, t] nb de véhicules \n",
    "                                    # qui quittent l'usine au temps t)\n",
    "    @variable(LP, w[1:n, 1:l], Int) # chargement véhicule avant de faire une livraison au client i au temps t \n",
    "\n",
    "    @objective(LP, Min, sum(p[\"u\"]*prod[t] + p[\"f\"]*y[t] + \n",
    "            sum(p[\"Clients\"].h[i]*inv[i, t] for i in 1:n) + \n",
    "            sum(sum(c[i, j] * x[i, j, t] for i in 1:n if i ≠ j) for j in 1:n) for t in 1:l))\n",
    "    \n",
    "    indices_array = [i for i in 1:n-1]\n",
    "    allS = partiesliste(indices_array, 1, n-2)\n",
    "    \n",
    "    for t in 1:l # Pour toutes les périodes (l=nb de prériodes)\n",
    "        sum_d_current_t = sum(sum(p[\"Clients\"].d[ii][tt] for ii in 1:n-1) for tt in t:l)\n",
    "        Mt = min(p[\"C\"], sum_d_current_t)\n",
    "        @constraint(LP, prod[t] <= Mt * y[t]) # (4) OK\n",
    "        @constraint(LP, inv[1, t] <= p[\"Clients\"].L[1]) # (5) OK\n",
    "        @constraint(LP, z[1, t] <= p[\"k\"]) # (10) OK | Attention k == m sur l'article\n",
    "        @constraint(LP, 0 <= prod[t]) # (13.1) OK\n",
    "        @constraint(LP, 0 <= y[t] <= 1) # (14.1) OK\n",
    "        # Contrainte 16 définie par le Int lors de la déclaration de la variable\n",
    "        \n",
    "        \n",
    "        for ii in allS\n",
    "            jj = indices_array[indices_array .∉ Ref(ii)]\n",
    "            # (17) OK :\n",
    "            @constraint(LP, sum(sum(x[i, j, t] for j in jj) for i in ii) >= sum(q[i, t] for i in ii) / p[\"Q\"])\n",
    "            if(size(ii)[1] >= 2 && size(ii)[1] <= n-3)\n",
    "                @constraint(LP, sum(sum(x[i, j, t] for j in ii) for i in ii) <= \n",
    "                    size(ii)[1] - sum(q[i, t] for i in ii) / p[\"Q\"]) # (18) OK\n",
    "                @constraint(LP, p[\"Q\"] * sum(sum(x[i, j, t] for j in ii) for i in ii) <= \n",
    "                    sum(p[\"Q\"] * z[i, t] - q[i, t] for i in ii)) # (19) OK\n",
    "            end\n",
    "        end\n",
    "        \n",
    "        if(t ≠ 1) \n",
    "            @constraint(LP, inv[1, t-1] + prod[t] == sum(q[i, t] for i in 1:n) + inv[1, t]) # (2) OK\n",
    "        end\n",
    "        for i in 1:n # Parcours de tous les clients\n",
    "            Mit = min(p[\"Clients\"].L[i], p[\"Q\"], sum_d_current_t)\n",
    "            xijt_sum = sum(x[i, jj, t] for jj in 1:n)\n",
    "            if(i ≠ 1) # Nc\n",
    "                if(t ≠ 1)\n",
    "                    @constraint(LP, inv[i, t-1] + q[i, t] == p[\"Clients\"].d[i-1][t] + inv[i, t]) # (3) OK\n",
    "                    @constraint(LP, inv[i, t-1] + q[i, t] <= p[\"Clients\"].L[i]) # (6) OK\n",
    "                end\n",
    "                @constraint(LP, q[i, t] <= Mit * z[i, t]) # (7) OK\n",
    "                @constraint(LP, xijt_sum == z[i, t]) # (8) OK\n",
    "                @constraint(LP, 0 <= w[i, t]) # (12.1) OK\n",
    "                @constraint(LP, w[i, t] <= p[\"Q\"] * z[i, t]) # (12.2) OK\n",
    "                @constraint(LP, 0 <= z[i, t] <= 1)\n",
    "            end\n",
    "            @constraint(LP, xijt_sum + sum(x[jj, i, t] for jj in 1:n) == 2 * z[i, t]) # (9) OK\n",
    "            @constraint(LP, 0 <= inv[i, t]) # (13.2) OK\n",
    "            @constraint(LP, 0 <= q[i, t]) # (13.3) OK \n",
    "            \n",
    "            for j in 1:n\n",
    "                if(i ≠ j)\n",
    "                    @constraint(LP, w[i, t] - w[j, t] <= q[i, t] - Mit * (1 - x[i, j, t])) # (11) OK\n",
    "                end\n",
    "                @constraint(LP, 0 <= x[i, j, t] <= 1) # (14.2) OK\n",
    "            end\n",
    "        end\n",
    "    end\n",
    "    \n",
    "    # print(LP)\n",
    "    # println()\n",
    "\n",
    "    optimize!(LP)\n",
    "   \n",
    "    println(solution_summary(LP, verbose=true))\n",
    "    \n",
    "    return 0\n",
    "end"
   ]
  },
  {
   "cell_type": "code",
   "execution_count": 15,
   "id": "a2b85d9b",
   "metadata": {},
   "outputs": [
    {
     "name": "stdout",
     "output_type": "stream",
     "text": [
      "Version identifier: 20.1.0.0 | 2020-11-10 | 9bedb6d68\n",
      "Presolve has eliminated 1741 rows and 1442 columns...\n",
      "Presolve has improved bounds 823 times...\n",
      "Tried aggregator 2 times.\n",
      "MIP Presolve eliminated 1741 rows and 1442 columns.\n",
      "MIP Presolve modified 363479 coefficients.\n",
      "Aggregator did 6 substitutions.\n",
      "Reduced MIP has 296268 rows, 1714 columns, and 17521134 nonzeros.\n",
      "Reduced MIP has 1439 binaries, 275 generals, 0 SOSs, and 0 indicators.\n",
      "Presolve time = 25.76 sec. (19502.08 ticks)\n",
      "Probing fixed 78 vars, tightened 0 bounds.\n",
      "Probing time = 1.51 sec. (965.40 ticks)\n",
      "* Solver : CPLEX\n",
      "\n",
      "* Status\n",
      "  Termination status : INFEASIBLE\n",
      "  Primal status      : NO_SOLUTION\n",
      "  Dual status        : NO_SOLUTION\n",
      "  Result count       : 0\n",
      "  Has duals          : false\n",
      "  Message from the solver:\n",
      "  \"integer infeasible\"\n",
      "\n",
      "* Candidate solution\n",
      "  Objective bound      : 1.00000e+75\n",
      "\n",
      "* Work counters\n",
      "  Solve time (sec)   : 4.72139e+01\n",
      "  Simplex iterations : 0\n",
      "  Barrier iterations : 0\n",
      "  Node count         : 0\n",
      "\n",
      "\n",
      "Root node processing (before b&c):\n",
      "  Real time             =   47.19 sec. (38803.79 ticks)\n",
      "Parallel b&c, 8 threads:\n",
      "  Real time             =    0.00 sec. (0.00 ticks)\n",
      "  Sync time (average)   =    0.00 sec.\n",
      "  Wait time (average)   =    0.00 sec.\n",
      "                          ------------\n",
      "Total (root+branch&cut) =   47.19 sec. (38803.79 ticks)\n",
      "CPLEX Error  1217: No solution exists.\n",
      "CPLEX Error  1217: No solution exists.\n",
      "CPLEX Error  1217: No solution exists.\n"
     ]
    },
    {
     "data": {
      "text/plain": [
       "0"
      ]
     },
     "execution_count": 15,
     "metadata": {},
     "output_type": "execute_result"
    }
   ],
   "source": [
    "Resolve_PRP(Read_PRP_instance(\"./PRP_instances/A_014_#ABS1_15_1.prp\"))"
   ]
  },
  {
   "cell_type": "code",
   "execution_count": null,
   "id": "5dc698c3",
   "metadata": {},
   "outputs": [],
   "source": [
    "function Resolve_PRP2(p)\n",
    "    LP = Model(CPLEX.Optimizer)\n",
    "    \n",
    "    c = calcul_dist(p)\n",
    "    \n",
    "    n = p[\"Clients\"].nb_clients      # Nombre de clients (usine inclue)\n",
    "    l = p[\"l\"]                       # Nombre de périodes\n",
    "    \n",
    "    @variable(LP, y[1:l], Bin)  # Production démarrée\n",
    "    @variable(LP, prod[1:l], Bin)  # Quantité produite\n",
    "    @variable(LP, inv[1:n, 1:l], Int)  # Inventaire des clients\n",
    "    @variable(LP, x[1:n, 1:n, 1:l], Bin)  # Camion entre i et j au temps t\n",
    "    @variable(LP, q[1:n, 1:l], Int) # qt délivré au client i à la période t\n",
    "    @variable(LP, z[1:n, 1:l], Int) # 1 client i visité au temps t, 0 sinon (Attention z[0, t] nb de véhicules \n",
    "                                    # qui quittent l'usine au temps t)\n",
    "    @variable(LP, w[1:n, 1:l], Int) # chargement véhicule avant de faire une livraison au client i au temps t \n",
    "\n",
    "    @objective(LP, Min, sum(p[\"u\"]*prod[t] + p[\"f\"]*y[t] + \n",
    "            sum(p[\"Clients\"].h[i]*inv[i, t] for i in 1:n) + \n",
    "            sum(sum(c[i, j] * x[i, j, t] for i in 1:n) for j in 1:n) for t in 1:l))\n",
    "    \n",
    "    indices_array = [i for i in 1:n-1]\n",
    "    allS = partiesliste(indices_array, 1, n-2)\n",
    "    \n",
    "    for t in 1:l # Pour toutes les périodes (l=nb de prériodes)\n",
    "        sum_d_current_t = sum(sum(p[\"Clients\"].d[ii][tt] for ii in 1:n-1) for tt in t:l)\n",
    "        Mt = min(p[\"C\"], sum_d_current_t)\n",
    "        @constraint(LP, prod[t] <= Mt * y[t]) # (4) OK\n",
    "        @constraint(LP, inv[1, t] <= p[\"Clients\"].L[1]) # (5) OK\n",
    "        @constraint(LP, z[1, t] <= p[\"k\"]) # (10) OK | Attention k == m sur l'article\n",
    "        @constraint(LP, 0 <= prod[t]) # (13.1) OK\n",
    "        @constraint(LP, 0 <= y[t] <= 1) # (14.1) OK\n",
    "        # Contrainte 16 définie par le Int lors de la déclaration de la variable\n",
    "        \n",
    "        \n",
    "        for ii in allS\n",
    "            jj = indices_array[indices_array .∉ Ref(ii)]\n",
    "            # (17) OK :\n",
    "            @constraint(LP, sum(sum(x[i, j, t] for j in jj) for i in ii) >= sum(q[i, t] for i in ii) / p[\"Q\"])\n",
    "            if(size(ii)[1] >= 2 && size(ii)[1] <= n-3)\n",
    "                @constraint(LP, sum(sum(x[i, j, t] for j in ii) for i in ii) <= \n",
    "                    size(ii)[1] - sum(q[i, t] for i in ii) / p[\"Q\"]) # (18) OK\n",
    "                @constraint(LP, p[\"Q\"] * sum(sum(x[i, j, t] for j in ii) for i in ii) <= \n",
    "                    sum(p[\"Q\"] * z[i, t] - q[i, t] for i in ii)) # (19) OK\n",
    "            end\n",
    "        end\n",
    "        \n",
    "        if(t ≠ 1) \n",
    "            @constraint(LP, inv[1, t-1] + prod[t] == sum(q[i, t] for i in 1:n) + inv[1, t]) # (2) OK\n",
    "        end\n",
    "        for i in 1:n # Parcours de tous les clients\n",
    "            Mit = min(p[\"Clients\"].L[i], p[\"Q\"], sum_d_current_t)\n",
    "            xijt_sum = sum(x[i, jj, t] for jj in 1:n)\n",
    "            if(i ≠ 1) # Nc\n",
    "                if(t ≠ 1)\n",
    "                    @constraint(LP, inv[i, t-1] + q[i, t] == p[\"Clients\"].d[i-1][t] + inv[i, t]) # (3) OK\n",
    "                    @constraint(LP, inv[i, t-1] + q[i, t] <= p[\"Clients\"].L[i]) # (6) OK\n",
    "                end\n",
    "                @constraint(LP, q[i, t] <= Mit * z[i, t]) # (7) OK\n",
    "                @constraint(LP, xijt_sum == z[i, t]) # (8) OK\n",
    "                @constraint(LP, 0 <= w[i, t]) # (12.1) OK\n",
    "                @constraint(LP, w[i, t] <= p[\"Q\"] * z[i, t]) # (12.2) OK\n",
    "                @constraint(LP, 0 <= z[i, t] <= 1)\n",
    "            end\n",
    "            @constraint(LP, xijt_sum + sum(x[jj, i, t] for jj in 1:n) == 2 * z[i, t]) # (9) OK\n",
    "            @constraint(LP, 0 <= inv[i, t]) # (13.2) OK\n",
    "            @constraint(LP, 0 <= q[i, t]) # (13.3) OK \n",
    "            \n",
    "            for j in 1:n\n",
    "                if(i ≠ j)\n",
    "                    @constraint(LP, w[i, t] - w[j, t] <= q[i, t] - Mit * (1 - x[i, j, t])) # (11) OK\n",
    "                end\n",
    "                @constraint(LP, 0 <= x[i, j, t] <= 1) # (14.2) OK\n",
    "            end\n",
    "        end\n",
    "    end\n",
    "    \n",
    "    # print(LP)\n",
    "    # println()\n",
    "\n",
    "    optimize!(LP)\n",
    "   \n",
    "    println(solution_summary(LP, verbose=true))\n",
    "    \n",
    "    return 0\n",
    "end"
   ]
  }
 ],
 "metadata": {
  "kernelspec": {
   "display_name": "Julia 1.8.2",
   "language": "julia",
   "name": "julia-1.8"
  },
  "language_info": {
   "file_extension": ".jl",
   "mimetype": "application/julia",
   "name": "julia",
   "version": "1.8.2"
  }
 },
 "nbformat": 4,
 "nbformat_minor": 5
}
