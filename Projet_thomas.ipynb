{
 "cells": [
  {
   "cell_type": "code",
   "execution_count": 1,
   "id": "bcb47c2f",
   "metadata": {},
   "outputs": [],
   "source": [
    "using JuMP\n",
    "using CPLEX\n",
    "using CPUTime\n",
    "using Graphs"
   ]
  },
  {
   "cell_type": "code",
   "execution_count": 2,
   "id": "dea21557",
   "metadata": {},
   "outputs": [],
   "source": [
    "struct Clients\n",
    "    nb_clients\n",
    "    X\n",
    "    Y\n",
    "    h\n",
    "    L\n",
    "    L0\n",
    "    d\n",
    "end"
   ]
  },
  {
   "cell_type": "code",
   "execution_count": 41,
   "id": "2de5666f",
   "metadata": {},
   "outputs": [
    {
     "data": {
      "text/plain": [
       "Read_PRP_instance (generic function with 1 method)"
      ]
     },
     "execution_count": 41,
     "metadata": {},
     "output_type": "execute_result"
    }
   ],
   "source": [
    "function Read_PRP_instance(filename)\n",
    "    hashmap = Dict()\n",
    "    open(filename) do f\n",
    "        \n",
    "        demands = false\n",
    "        listing_active = false\n",
    "        current_value = 0\n",
    "        \n",
    "        nbc = 0\n",
    "        X = Array{Float64}(undef, 0)\n",
    "        Y = Array{Float64}(undef, 0)\n",
    "        h = Array{Float64}(undef, 0)\n",
    "        L = Array{Float64}(undef, 0)\n",
    "        L0 = Array{Float64}(undef, 0)\n",
    "        d = Array{Array{Float64}}(undef, 0)\n",
    "        \n",
    "        for (i, line) in enumerate(eachline(f))\n",
    "            x = split(line, \" \")\n",
    "            deleteat!(x, findall(e->e==\"\", x))\n",
    "            current_item = x[1]\n",
    "            \n",
    "            if(current_item == \"0\" || listing_active) # Liste de clients / demandes\n",
    "                listing_active = true\n",
    "                if(current_item == \"d\")\n",
    "                    demands = true\n",
    "                elseif(demands) # Enregistrement des demandes\n",
    "                    push!(d, parse.(Float64, x)[2:end])\n",
    "                else # enregistrement des clients\n",
    "                    nbc += 1\n",
    "                    push!(X, parse(Float64, x[2]))\n",
    "                    push!(Y, parse(Float64, x[3]))\n",
    "                    push!(h, parse(Float64, x[6]))\n",
    "                    push!(L, parse(Float64, x[8]))\n",
    "                    push!(L0, parse(Float64, x[10]))\n",
    "                end\n",
    "            else # variables générales du problème\n",
    "                try\n",
    "                    current_value = parse(Int64, x[2])\n",
    "                catch err\n",
    "                    current_value = 10000000000\n",
    "                end\n",
    "                hashmap[current_item] = current_value\n",
    "            end\n",
    "        end\n",
    "        C = Clients(nbc, X, Y, h, L, L0, d)\n",
    "        hashmap[\"Clients\"] = C\n",
    "    end \n",
    "    return hashmap\n",
    "end"
   ]
  },
  {
   "cell_type": "code",
   "execution_count": 42,
   "id": "ae6cb1a7",
   "metadata": {},
   "outputs": [
    {
     "data": {
      "text/plain": [
       "Dict{Any, Any} with 9 entries:\n",
       "  \"f\"       => 3000\n",
       "  \"Q\"       => 322\n",
       "  \"C\"       => 10000000000\n",
       "  \"k\"       => 2085\n",
       "  \"Type\"    => 1\n",
       "  \"u\"       => 30\n",
       "  \"l\"       => 6\n",
       "  \"Clients\" => Clients(15, [143.0, 89.0, 76.0, 285.0, 401.0, 16.0, 267.0, 249.0…\n",
       "  \"n\"       => 14"
      ]
     },
     "execution_count": 42,
     "metadata": {},
     "output_type": "execute_result"
    }
   ],
   "source": [
    "h = Read_PRP_instance(\"./PRP_instances/A_014_#ABS1_15_1.prp\")"
   ]
  },
  {
   "cell_type": "code",
   "execution_count": 43,
   "id": "27b312b0",
   "metadata": {},
   "outputs": [
    {
     "data": {
      "text/plain": [
       "6.0"
      ]
     },
     "execution_count": 43,
     "metadata": {},
     "output_type": "execute_result"
    }
   ],
   "source": [
    "h[\"Clients\"].h[14]"
   ]
  },
  {
   "cell_type": "code",
   "execution_count": 44,
   "id": "0875d779",
   "metadata": {},
   "outputs": [
    {
     "data": {
      "text/plain": [
       "dist (generic function with 1 method)"
      ]
     },
     "execution_count": 44,
     "metadata": {},
     "output_type": "execute_result"
    }
   ],
   "source": [
    "function dist(C, i, j, t, mc)\n",
    "    if(t == 1)\n",
    "        return ((C.X[i] - C.X[j])^2 + (C.Y[i] - C.Y[j])^2)^(0.5) + 0.5\n",
    "    else\n",
    "        return ((C.X[i] - C.X[j])^2 + (C.Y[i] - C.Y[j])^2)^(0.5) * mc\n",
    "    end\n",
    "end"
   ]
  },
  {
   "cell_type": "code",
   "execution_count": 45,
   "id": "53c31e94",
   "metadata": {},
   "outputs": [
    {
     "data": {
      "text/plain": [
       "calcul_dist (generic function with 1 method)"
      ]
     },
     "execution_count": 45,
     "metadata": {},
     "output_type": "execute_result"
    }
   ],
   "source": [
    "function calcul_dist(p)\n",
    "    if(p[\"Type\"] == 1)\n",
    "        mc = 0\n",
    "    else\n",
    "        mc = p[\"mc\"]\n",
    "    end\n",
    "    c = Array{Float64}(undef, (p[\"n\"]+1, p[\"n\"]+1))\n",
    "    for i in 1:p[\"n\"]+1\n",
    "        for j in 1:p[\"n\"]+1            \n",
    "            c[i, j] = dist(p[\"Clients\"], i, j, p[\"Type\"], mc)\n",
    "        end\n",
    "    end\n",
    "    return c\n",
    "end"
   ]
  },
  {
   "cell_type": "code",
   "execution_count": 46,
   "id": "3cd16ee6",
   "metadata": {},
   "outputs": [
    {
     "data": {
      "text/plain": [
       "106.0"
      ]
     },
     "execution_count": 46,
     "metadata": {},
     "output_type": "execute_result"
    }
   ],
   "source": [
    "sum(h[\"Clients\"].h[i] for i in 1:15)"
   ]
  },
  {
   "cell_type": "code",
   "execution_count": 49,
   "id": "5d222a4a",
   "metadata": {},
   "outputs": [
    {
     "data": {
      "text/plain": [
       "1380.0"
      ]
     },
     "execution_count": 49,
     "metadata": {},
     "output_type": "execute_result"
    }
   ],
   "source": [
    "sum(sum(h[\"Clients\"].d[jj][tt] for jj in 1:h[\"Clients\"].nb_clients-1) for tt in 1:h[\"l\"])"
   ]
  },
  {
   "cell_type": "code",
   "execution_count": 74,
   "id": "5665e43f",
   "metadata": {},
   "outputs": [
    {
     "name": "stdout",
     "output_type": "stream",
     "text": [
      "123456"
     ]
    }
   ],
   "source": [
    "for i in 1:6\n",
    "    print(i)\n",
    "end"
   ]
  },
  {
   "cell_type": "code",
   "execution_count": 94,
   "id": "e006eaa5",
   "metadata": {},
   "outputs": [
    {
     "data": {
      "text/plain": [
       "15"
      ]
     },
     "execution_count": 94,
     "metadata": {},
     "output_type": "execute_result"
    }
   ],
   "source": [
    "h[\"Clients\"].nb_clients"
   ]
  },
  {
   "cell_type": "code",
   "execution_count": 112,
   "id": "a800bfbb",
   "metadata": {},
   "outputs": [
    {
     "data": {
      "text/plain": [
       "Resolve_PRP (generic function with 1 method)"
      ]
     },
     "execution_count": 112,
     "metadata": {},
     "output_type": "execute_result"
    }
   ],
   "source": [
    "function Resolve_PRP(p)\n",
    "    LP = Model(CPLEX.Optimizer)\n",
    "    \n",
    "    c = calcul_dist(p)\n",
    "    \n",
    "    n = p[\"Clients\"].nb_clients      # Nombre de clients (usine inclue)\n",
    "    l = p[\"l\"]                       # Nombre de périodes\n",
    "    \n",
    "    @variable(LP, y[1:l], Bin)  # Production démarrée\n",
    "    @variable(LP, prod[1:l], Bin)  # Quantité produite\n",
    "    @variable(LP, inv[1:n, 1:l], Int)  # Inventaire des clients\n",
    "    @variable(LP, x[1:n, 1:n, 1:l], Bin)  # Camion entre i et j au temps t\n",
    "    @variable(LP, q[1:n, 1:l], Int) # qt délivré au client i à la période t\n",
    "    @variable(LP, z[1:n, 1:l], Int) # 1 client i visité au temps t, 0 sinon (Attention z[0, t] nb de véhicules \n",
    "                                    # qui quittent l'usine au temps t)\n",
    "    @variable(LP, w[1:n, 1:l], Int) # chargement véhicule avant de faire une livraison au client i au temps t \n",
    "\n",
    "    @objective(LP, Min, sum(p[\"u\"]*prod[t] + p[\"f\"]*y[t] + \n",
    "            sum(p[\"Clients\"].h[i]*inv[i, t] for i in 1:n) + \n",
    "            sum(sum(c[i, j] * x[i, j, t] for i in 1:n) for j in 1:n) for t in 1:l))\n",
    "    \n",
    "    for t in 1:l # Pour toutes les périodes (l=nb de prériodes)\n",
    "        sum_d_current_t = sum(sum(p[\"Clients\"].d[ii][tt] for ii in 1:n-1) for tt in t:l)\n",
    "        Mt = min(p[\"C\"], sum_d_current_t)\n",
    "        @constraint(LP, prod[t] <= Mt * y[t]) # (4) OK\n",
    "        @constraint(LP, inv[1, t] <= p[\"Clients\"].L[1]) # (5) OK\n",
    "        @constraint(LP, z[1, t] <= p[\"k\"]) # (10) OK | Attention k == m sur l'article\n",
    "        @constraint(LP, 0 <= prod[t]) # (13.1) OK\n",
    "        @constraint(LP, 0 <= y[t] <= 1) # (14.1) OK\n",
    "        # Contrainte 16 définie par le Int lors de la déclaration de la variable\n",
    "        \n",
    "        \n",
    "        \n",
    "        \n",
    "        \n",
    "        if(t ≠ 1) \n",
    "            @constraint(LP, inv[1, t-1] + prod[t] == sum(q[i, t] for i in 1:n) + inv[1, t]) # (2) OK\n",
    "        end\n",
    "        for i in 1:n # Parcours de tous les clients\n",
    "            Mit = min(p[\"Clients\"].L[i], p[\"Q\"], sum_d_current_t)\n",
    "            xijt_sum = sum(x[i, jj, t] for jj in 1:n)\n",
    "            if(i ≠ 1) # Nc\n",
    "                if(t ≠ 1)\n",
    "                    @constraint(LP, inv[i, t-1] + q[i, t] == p[\"Clients\"].d[i-1][t] + inv[i, t]) # (3) OK\n",
    "                    @constraint(LP, inv[i, t-1] + q[i, t] <= p[\"Clients\"].L[i]) # (6) OK\n",
    "                end\n",
    "                @constraint(LP, q[i, t] <= Mit * z[i, t]) # (7) OK\n",
    "                @constraint(LP, xijt_sum == z[i, t]) # (8) OK\n",
    "                @constraint(LP, 0 <= w[i, t]) # (12.1) OK\n",
    "                @constraint(LP, w[i, t] <= p[\"Q\"] * z[i, t]) # (12.2) OK\n",
    "                @constraint(LP, 0 <= z[i, t] <= 1)\n",
    "            end\n",
    "            @constraint(LP, xijt_sum + sum(x[jj, i, t] for jj in 1:n) == 2 * z[i, t]) # (9) OK\n",
    "            @constraint(LP, 0 <= inv[i, t]) # (13.2) OK\n",
    "            @constraint(LP, 0 <= q[i, t]) # (13.3) OK \n",
    "            \n",
    "            for j in 1:n\n",
    "                if(i ≠ j)\n",
    "                    @constraint(LP, w[i, t] - w[j, t] <= q[i, t] - Mit * (1 - x[i, j, t])) # (11) OK\n",
    "                end\n",
    "                @constraint(LP, 0 <= x[i, j, t] <= 1) # (14.2) OK\n",
    "            end\n",
    "        end\n",
    "    end\n",
    "    \n",
    "    # print(LP)\n",
    "    # println()\n",
    "\n",
    "    #optimize!(LP)\n",
    "   \n",
    "    #println(solution_summary(LP, verbose=true))\n",
    "    \n",
    "    return 0\n",
    "end"
   ]
  },
  {
   "cell_type": "code",
   "execution_count": 113,
   "id": "a2b85d9b",
   "metadata": {},
   "outputs": [
    {
     "data": {
      "text/plain": [
       "0"
      ]
     },
     "execution_count": 113,
     "metadata": {},
     "output_type": "execute_result"
    }
   ],
   "source": [
    "Resolve_PRP(Read_PRP_instance(\"./PRP_instances/A_014_#ABS1_15_1.prp\"))"
   ]
  },
  {
   "cell_type": "code",
   "execution_count": 99,
   "id": "879a730d",
   "metadata": {},
   "outputs": [
    {
     "data": {
      "text/plain": [
       "0"
      ]
     },
     "execution_count": 99,
     "metadata": {},
     "output_type": "execute_result"
    }
   ],
   "source": [
    "Resolve_PRP(Read_PRP_instance(\"./PRP_instances/B_100_instance17.prp\"))"
   ]
  },
  {
   "cell_type": "code",
   "execution_count": null,
   "id": "128f6b6b",
   "metadata": {},
   "outputs": [],
   "source": [
    "Read_PRP_instance(\"./PRP_instances/B_100_instance17.prp\")"
   ]
  },
  {
   "cell_type": "code",
   "execution_count": null,
   "id": "46810b2a",
   "metadata": {},
   "outputs": [],
   "source": []
  },
  {
   "cell_type": "code",
   "execution_count": null,
   "id": "80ff4b99",
   "metadata": {},
   "outputs": [],
   "source": [
    "function partiesliste(seq, min_size):\n",
    "    p = Array{Float64}(undef, (p[\"n\"]+1, p[\"n\"]+1))\n",
    "    i, imax = 0, 2**len(seq)-1\n",
    "    while i <= imax:\n",
    "        s = []\n",
    "        j, jmax = 0, len(seq)-1\n",
    "        while j <= jmax:\n",
    "            if (i>>j)&1 == 1:\n",
    "                s.append(seq[j])\n",
    "            j += 1\n",
    "        if(len(s) >= min_size):\n",
    "            p.append(s)\n",
    "        i += 1 \n",
    "    return p"
   ]
  }
 ],
 "metadata": {
  "kernelspec": {
   "display_name": "Julia 1.8.2",
   "language": "julia",
   "name": "julia-1.8"
  },
  "language_info": {
   "file_extension": ".jl",
   "mimetype": "application/julia",
   "name": "julia",
   "version": "1.8.2"
  }
 },
 "nbformat": 4,
 "nbformat_minor": 5
}
